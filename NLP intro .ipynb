{
 "cells": [
  {
   "cell_type": "code",
   "execution_count": 65,
   "id": "cc63e190",
   "metadata": {},
   "outputs": [],
   "source": [
    "#Line Tokenization\n",
    "import nltk\n",
    "#nltk.download('punkt')"
   ]
  },
  {
   "cell_type": "code",
   "execution_count": 66,
   "id": "3ebd3d24",
   "metadata": {},
   "outputs": [
    {
     "name": "stdout",
     "output_type": "stream",
     "text": [
      "['Welcome to natural Language Processing.', 'I am very happy to start this new learning journey in NLP']\n"
     ]
    }
   ],
   "source": [
    "data = \"Welcome to natural Language Processing. I am very happy to start this new learning journey in NLP\"\n",
    "tokens = nltk.sent_tokenize(data)\n",
    "print(tokens)"
   ]
  },
  {
   "cell_type": "code",
   "execution_count": 5,
   "id": "5fe7caeb",
   "metadata": {},
   "outputs": [
    {
     "data": {
      "text/plain": [
       "['Welcome',\n",
       " 'to',\n",
       " 'natural',\n",
       " 'Language',\n",
       " 'Processing',\n",
       " '.',\n",
       " 'I',\n",
       " 'am',\n",
       " 'very',\n",
       " 'happy',\n",
       " 'to',\n",
       " 'start',\n",
       " 'this',\n",
       " 'new',\n",
       " 'learning',\n",
       " 'journey',\n",
       " 'in',\n",
       " 'NLP']"
      ]
     },
     "execution_count": 5,
     "metadata": {},
     "output_type": "execute_result"
    }
   ],
   "source": [
    "words_toks = nltk.word_tokenize(data)\n",
    "words_toks"
   ]
  },
  {
   "cell_type": "code",
   "execution_count": 44,
   "id": "a1e3eab7",
   "metadata": {},
   "outputs": [
    {
     "name": "stdout",
     "output_type": "stream",
     "text": [
      "beat : beat\n",
      "beating : beat\n",
      "beaten : beaten\n",
      "beats : beat\n"
     ]
    }
   ],
   "source": [
    "#Stemming \n",
    "from nltk.stem import PorterStemmer\n",
    "\n",
    "ps = nltk.porter.PorterStemmer()\n",
    "\n",
    "words = [\"beat\", \"beating\", \"beaten\", \"beats\"]\n",
    "\n",
    "for i in words:\n",
    "    print(i, \":\", ps.stem(i))"
   ]
  },
  {
   "cell_type": "code",
   "execution_count": 7,
   "id": "70a7e814",
   "metadata": {},
   "outputs": [],
   "source": [
    "#Lammetization\n",
    "#nltk.download('wordnet')"
   ]
  },
  {
   "cell_type": "code",
   "execution_count": 8,
   "id": "e3138398",
   "metadata": {},
   "outputs": [],
   "source": [
    "from nltk.stem import WordNetLemmatizer\n",
    "#nltk.download('omw-1.4')\n",
    "lemmaz = WordNetLemmatizer()"
   ]
  },
  {
   "cell_type": "code",
   "execution_count": 9,
   "id": "f8ed7d23",
   "metadata": {},
   "outputs": [
    {
     "name": "stdout",
     "output_type": "stream",
     "text": [
      "prints print\n",
      "pumas puma\n",
      "printing printing\n",
      "running running\n"
     ]
    }
   ],
   "source": [
    "print(\"prints\", lemmaz.lemmatize(\"prints\"))\n",
    "print(\"pumas\", lemmaz.lemmatize(\"pumas\"))\n",
    "print(\"printing\", lemmaz.lemmatize(\"printing\"))\n",
    "print(\"running\", lemmaz.lemmatize(\"running\"))"
   ]
  },
  {
   "cell_type": "code",
   "execution_count": null,
   "id": "bbc03b5f",
   "metadata": {},
   "outputs": [],
   "source": [
    "#Stop Words in Python"
   ]
  },
  {
   "cell_type": "code",
   "execution_count": 10,
   "id": "977a4229",
   "metadata": {},
   "outputs": [],
   "source": [
    "from nltk.corpus import stopwords\n",
    "#nltk.download('stopwords')"
   ]
  },
  {
   "cell_type": "code",
   "execution_count": 11,
   "id": "cdf2e2a8",
   "metadata": {},
   "outputs": [
    {
     "data": {
      "text/plain": [
       "['Moving',\n",
       " 'from',\n",
       " 'Kampala',\n",
       " 'to',\n",
       " 'Nebbi',\n",
       " 'is',\n",
       " 'a',\n",
       " 'hectic',\n",
       " 'task',\n",
       " '.',\n",
       " 'It',\n",
       " 'requires',\n",
       " 'to',\n",
       " 'much',\n",
       " 'transport',\n",
       " 'and',\n",
       " 'fuel',\n",
       " 'in',\n",
       " 'case',\n",
       " 'you',\n",
       " 'using',\n",
       " 'a',\n",
       " 'personal',\n",
       " 'Vehicle']"
      ]
     },
     "execution_count": 11,
     "metadata": {},
     "output_type": "execute_result"
    }
   ],
   "source": [
    "test_data = \"Moving from Kampala to Nebbi is a hectic task. It requires to much transport and fuel in case you using a personal Vehicle\"\n",
    "\n",
    "data = nltk.word_tokenize(test_data)\n",
    "data\n"
   ]
  },
  {
   "cell_type": "code",
   "execution_count": 12,
   "id": "8c278edb",
   "metadata": {},
   "outputs": [
    {
     "name": "stdout",
     "output_type": "stream",
     "text": [
      "from\n",
      "to\n",
      "is\n",
      "a\n",
      "to\n",
      "and\n",
      "in\n",
      "you\n",
      "a\n"
     ]
    }
   ],
   "source": [
    "stop_cl = set(stopwords.words(\"english\"))\n",
    "\n",
    "for a in data:\n",
    "    if a in stop_cl:\n",
    "        print(a)"
   ]
  },
  {
   "cell_type": "markdown",
   "id": "861994b4",
   "metadata": {},
   "source": [
    "# SENTIMENT ANALYSIS"
   ]
  },
  {
   "cell_type": "code",
   "execution_count": 67,
   "id": "72c16cc0",
   "metadata": {},
   "outputs": [],
   "source": [
    "import numpy as np\n",
    "import pandas as pd\n",
    "\n",
    "data = pd.read_csv(\"moviedata.csv\")"
   ]
  },
  {
   "cell_type": "code",
   "execution_count": 68,
   "id": "522a91a1",
   "metadata": {},
   "outputs": [
    {
     "data": {
      "text/html": [
       "<div>\n",
       "<style scoped>\n",
       "    .dataframe tbody tr th:only-of-type {\n",
       "        vertical-align: middle;\n",
       "    }\n",
       "\n",
       "    .dataframe tbody tr th {\n",
       "        vertical-align: top;\n",
       "    }\n",
       "\n",
       "    .dataframe thead th {\n",
       "        text-align: right;\n",
       "    }\n",
       "</style>\n",
       "<table border=\"1\" class=\"dataframe\">\n",
       "  <thead>\n",
       "    <tr style=\"text-align: right;\">\n",
       "      <th></th>\n",
       "      <th>review</th>\n",
       "      <th>sentiment</th>\n",
       "    </tr>\n",
       "  </thead>\n",
       "  <tbody>\n",
       "    <tr>\n",
       "      <th>0</th>\n",
       "      <td>One of the other reviewers has mentioned that ...</td>\n",
       "      <td>positive</td>\n",
       "    </tr>\n",
       "    <tr>\n",
       "      <th>1</th>\n",
       "      <td>A wonderful little production. &lt;br /&gt;&lt;br /&gt;The...</td>\n",
       "      <td>positive</td>\n",
       "    </tr>\n",
       "    <tr>\n",
       "      <th>2</th>\n",
       "      <td>I thought this was a wonderful way to spend ti...</td>\n",
       "      <td>positive</td>\n",
       "    </tr>\n",
       "    <tr>\n",
       "      <th>3</th>\n",
       "      <td>Basically there's a family where a little boy ...</td>\n",
       "      <td>negative</td>\n",
       "    </tr>\n",
       "    <tr>\n",
       "      <th>4</th>\n",
       "      <td>Petter Mattei's \"Love in the Time of Money\" is...</td>\n",
       "      <td>positive</td>\n",
       "    </tr>\n",
       "  </tbody>\n",
       "</table>\n",
       "</div>"
      ],
      "text/plain": [
       "                                              review sentiment\n",
       "0  One of the other reviewers has mentioned that ...  positive\n",
       "1  A wonderful little production. <br /><br />The...  positive\n",
       "2  I thought this was a wonderful way to spend ti...  positive\n",
       "3  Basically there's a family where a little boy ...  negative\n",
       "4  Petter Mattei's \"Love in the Time of Money\" is...  positive"
      ]
     },
     "execution_count": 68,
     "metadata": {},
     "output_type": "execute_result"
    }
   ],
   "source": [
    "data.head()"
   ]
  },
  {
   "cell_type": "code",
   "execution_count": 69,
   "id": "ee35cb32",
   "metadata": {},
   "outputs": [
    {
     "data": {
      "text/plain": [
       "review       0\n",
       "sentiment    0\n",
       "dtype: int64"
      ]
     },
     "execution_count": 69,
     "metadata": {},
     "output_type": "execute_result"
    }
   ],
   "source": [
    "#data.tail()\n",
    "data.columns\n",
    "data.shape\n",
    "data.isnull().sum()"
   ]
  },
  {
   "cell_type": "code",
   "execution_count": 70,
   "id": "61742d49",
   "metadata": {},
   "outputs": [
    {
     "data": {
      "text/plain": [
       "positive    25000\n",
       "negative    25000\n",
       "Name: sentiment, dtype: int64"
      ]
     },
     "execution_count": 70,
     "metadata": {},
     "output_type": "execute_result"
    }
   ],
   "source": [
    "data['sentiment'].value_counts()"
   ]
  },
  {
   "cell_type": "markdown",
   "id": "7a4aa5dd",
   "metadata": {},
   "source": [
    "## TEXT NORMALIZATION"
   ]
  },
  {
   "cell_type": "markdown",
   "id": "49ff0ed4",
   "metadata": {},
   "source": [
    "#### TOKENIZATION"
   ]
  },
  {
   "cell_type": "code",
   "execution_count": 17,
   "id": "3d1e68b9",
   "metadata": {},
   "outputs": [],
   "source": [
    "#pip install wordCloud"
   ]
  },
  {
   "cell_type": "code",
   "execution_count": 71,
   "id": "d9beb517",
   "metadata": {},
   "outputs": [],
   "source": [
    "import seaborn as sns\n",
    "import matplotlib.pyplot as plt\n",
    "import nltk\n",
    "from sklearn.feature_extraction.text import CountVectorizer\n",
    "from sklearn.feature_extraction.text import TfidfVectorizer\n",
    "from sklearn.preprocessing import LabelBinarizer\n",
    "from nltk.corpus import stopwords\n",
    "from nltk.stem.porter import PorterStemmer\n",
    "from wordcloud import WordCloud, STOPWORDS\n",
    "from nltk.stem import WordNetLemmatizer\n",
    "from nltk.tokenize import word_tokenize, sent_tokenize\n"
   ]
  },
  {
   "cell_type": "markdown",
   "id": "9afc4a5c",
   "metadata": {},
   "source": [
    "###### pip install spacy"
   ]
  },
  {
   "cell_type": "code",
   "execution_count": 19,
   "id": "cd2dde94",
   "metadata": {},
   "outputs": [],
   "source": [
    "#pip install --upgrade typing-extensions"
   ]
  },
  {
   "cell_type": "code",
   "execution_count": 23,
   "id": "b39f806b",
   "metadata": {},
   "outputs": [],
   "source": [
    "#pip install textblob"
   ]
  },
  {
   "cell_type": "code",
   "execution_count": 72,
   "id": "b16d3820",
   "metadata": {},
   "outputs": [],
   "source": [
    "import spacy\n",
    "import re, string, unicodedata\n",
    "from nltk.tokenize.toktok import ToktokTokenizer\n",
    "from nltk.stem import LancasterStemmer, WordNetLemmatizer\n",
    "from sklearn.linear_model import LogisticRegression, SGDClassifier\n",
    "from sklearn.naive_bayes import MultinomialNB\n",
    "from sklearn.svm import SVC\n",
    "from textblob import TextBlob, Word\n",
    "from sklearn.metrics import classification_report, confusion_matrix, accuracy_score\n",
    "from bs4 import BeautifulSoup"
   ]
  },
  {
   "cell_type": "code",
   "execution_count": 73,
   "id": "4c216b3c",
   "metadata": {},
   "outputs": [],
   "source": [
    "#The process of tokenizing texts\n",
    "tokenizers = ToktokTokenizer()\n",
    "#Setting the stopwords to be english\n",
    "stopwords = nltk.corpus.stopwords.words('english')"
   ]
  },
  {
   "cell_type": "code",
   "execution_count": 74,
   "id": "28ee964b",
   "metadata": {},
   "outputs": [],
   "source": [
    "#removing the noisy text from the data \n",
    "def noisy_words(text):\n",
    "    soup = BeautifulSoup(text, 'html.parser')\n",
    "    text = soup.get_text()\n",
    "    text = re.sub('\\[[^]]*\\]', ' ', text)\n",
    "    return text"
   ]
  },
  {
   "cell_type": "code",
   "execution_count": 75,
   "id": "1a46cbd3",
   "metadata": {},
   "outputs": [
    {
     "name": "stderr",
     "output_type": "stream",
     "text": [
      "C:\\Users\\AYT-BRAIN\\anaconda3\\lib\\site-packages\\bs4\\__init__.py:435: MarkupResemblesLocatorWarning: The input looks more like a filename than markup. You may want to open this file and pass the filehandle into Beautiful Soup.\n",
      "  warnings.warn(\n"
     ]
    }
   ],
   "source": [
    "data['review'] = data['review'].apply(noisy_words)"
   ]
  },
  {
   "cell_type": "code",
   "execution_count": 76,
   "id": "831bde1b",
   "metadata": {},
   "outputs": [
    {
     "data": {
      "text/html": [
       "<div>\n",
       "<style scoped>\n",
       "    .dataframe tbody tr th:only-of-type {\n",
       "        vertical-align: middle;\n",
       "    }\n",
       "\n",
       "    .dataframe tbody tr th {\n",
       "        vertical-align: top;\n",
       "    }\n",
       "\n",
       "    .dataframe thead th {\n",
       "        text-align: right;\n",
       "    }\n",
       "</style>\n",
       "<table border=\"1\" class=\"dataframe\">\n",
       "  <thead>\n",
       "    <tr style=\"text-align: right;\">\n",
       "      <th></th>\n",
       "      <th>review</th>\n",
       "      <th>sentiment</th>\n",
       "    </tr>\n",
       "  </thead>\n",
       "  <tbody>\n",
       "    <tr>\n",
       "      <th>0</th>\n",
       "      <td>One of the other reviewers has mentioned that ...</td>\n",
       "      <td>positive</td>\n",
       "    </tr>\n",
       "    <tr>\n",
       "      <th>1</th>\n",
       "      <td>A wonderful little production. The filming tec...</td>\n",
       "      <td>positive</td>\n",
       "    </tr>\n",
       "    <tr>\n",
       "      <th>2</th>\n",
       "      <td>I thought this was a wonderful way to spend ti...</td>\n",
       "      <td>positive</td>\n",
       "    </tr>\n",
       "    <tr>\n",
       "      <th>3</th>\n",
       "      <td>Basically there's a family where a little boy ...</td>\n",
       "      <td>negative</td>\n",
       "    </tr>\n",
       "    <tr>\n",
       "      <th>4</th>\n",
       "      <td>Petter Mattei's \"Love in the Time of Money\" is...</td>\n",
       "      <td>positive</td>\n",
       "    </tr>\n",
       "  </tbody>\n",
       "</table>\n",
       "</div>"
      ],
      "text/plain": [
       "                                              review sentiment\n",
       "0  One of the other reviewers has mentioned that ...  positive\n",
       "1  A wonderful little production. The filming tec...  positive\n",
       "2  I thought this was a wonderful way to spend ti...  positive\n",
       "3  Basically there's a family where a little boy ...  negative\n",
       "4  Petter Mattei's \"Love in the Time of Money\" is...  positive"
      ]
     },
     "execution_count": 76,
     "metadata": {},
     "output_type": "execute_result"
    }
   ],
   "source": [
    "data.head()"
   ]
  },
  {
   "cell_type": "markdown",
   "id": "9899fe55",
   "metadata": {},
   "source": [
    "## Stemming "
   ]
  },
  {
   "cell_type": "code",
   "execution_count": 77,
   "id": "26c78e51",
   "metadata": {},
   "outputs": [],
   "source": [
    "def stemmer(text):\n",
    "    ps = nltk.porter.PorterStemmer()\n",
    "    text = ' '.join([ps.stem(word) for word in text.split()])\n",
    "    return text "
   ]
  },
  {
   "cell_type": "code",
   "execution_count": 80,
   "id": "8f2e059e",
   "metadata": {},
   "outputs": [],
   "source": [
    "data['review'] = data['review'].apply(stemmer)"
   ]
  },
  {
   "cell_type": "code",
   "execution_count": 81,
   "id": "c322e7dd",
   "metadata": {},
   "outputs": [
    {
     "data": {
      "text/html": [
       "<div>\n",
       "<style scoped>\n",
       "    .dataframe tbody tr th:only-of-type {\n",
       "        vertical-align: middle;\n",
       "    }\n",
       "\n",
       "    .dataframe tbody tr th {\n",
       "        vertical-align: top;\n",
       "    }\n",
       "\n",
       "    .dataframe thead th {\n",
       "        text-align: right;\n",
       "    }\n",
       "</style>\n",
       "<table border=\"1\" class=\"dataframe\">\n",
       "  <thead>\n",
       "    <tr style=\"text-align: right;\">\n",
       "      <th></th>\n",
       "      <th>review</th>\n",
       "      <th>sentiment</th>\n",
       "    </tr>\n",
       "  </thead>\n",
       "  <tbody>\n",
       "    <tr>\n",
       "      <th>0</th>\n",
       "      <td>one of the other review ha mention that after ...</td>\n",
       "      <td>positive</td>\n",
       "    </tr>\n",
       "    <tr>\n",
       "      <th>1</th>\n",
       "      <td>a wonder littl production. the film techniqu i...</td>\n",
       "      <td>positive</td>\n",
       "    </tr>\n",
       "    <tr>\n",
       "      <th>2</th>\n",
       "      <td>i thought thi wa a wonder way to spend time on...</td>\n",
       "      <td>positive</td>\n",
       "    </tr>\n",
       "    <tr>\n",
       "      <th>3</th>\n",
       "      <td>basic there' a famili where a littl boy (jake)...</td>\n",
       "      <td>negative</td>\n",
       "    </tr>\n",
       "    <tr>\n",
       "      <th>4</th>\n",
       "      <td>petter mattei' \"love in the time of money\" is ...</td>\n",
       "      <td>positive</td>\n",
       "    </tr>\n",
       "  </tbody>\n",
       "</table>\n",
       "</div>"
      ],
      "text/plain": [
       "                                              review sentiment\n",
       "0  one of the other review ha mention that after ...  positive\n",
       "1  a wonder littl production. the film techniqu i...  positive\n",
       "2  i thought thi wa a wonder way to spend time on...  positive\n",
       "3  basic there' a famili where a littl boy (jake)...  negative\n",
       "4  petter mattei' \"love in the time of money\" is ...  positive"
      ]
     },
     "execution_count": 81,
     "metadata": {},
     "output_type": "execute_result"
    }
   ],
   "source": [
    "data.head()"
   ]
  },
  {
   "cell_type": "markdown",
   "id": "5efba1c7",
   "metadata": {},
   "source": [
    "## Removing the stop words"
   ]
  },
  {
   "cell_type": "code",
   "execution_count": 87,
   "id": "ed93b6b3",
   "metadata": {},
   "outputs": [],
   "source": [
    "def remove_stopwords(text, is_lower_case = False):\n",
    "    tokenizers = ToktokTokenizer()\n",
    "    tokens = tokenizers.tokenize(text)\n",
    "    tokens = [i.strip() for i in tokens]\n",
    "    if is_lower_case:\n",
    "        feltokens = [i for i in tokens if token not in stop_cl]\n",
    "    else:\n",
    "        feltokens = [i for i in tokens if i.lower() not in stop_cl]\n",
    "    filtered_texts = ' '.join(feltokens)\n",
    "    return filtered_texts"
   ]
  },
  {
   "cell_type": "code",
   "execution_count": 89,
   "id": "1fc6b7be",
   "metadata": {},
   "outputs": [],
   "source": [
    "data['review'] = data['review'].apply(remove_stopwords)"
   ]
  },
  {
   "cell_type": "code",
   "execution_count": 91,
   "id": "54c4cf65",
   "metadata": {},
   "outputs": [
    {
     "data": {
      "text/html": [
       "<div>\n",
       "<style scoped>\n",
       "    .dataframe tbody tr th:only-of-type {\n",
       "        vertical-align: middle;\n",
       "    }\n",
       "\n",
       "    .dataframe tbody tr th {\n",
       "        vertical-align: top;\n",
       "    }\n",
       "\n",
       "    .dataframe thead th {\n",
       "        text-align: right;\n",
       "    }\n",
       "</style>\n",
       "<table border=\"1\" class=\"dataframe\">\n",
       "  <thead>\n",
       "    <tr style=\"text-align: right;\">\n",
       "      <th></th>\n",
       "      <th>review</th>\n",
       "      <th>sentiment</th>\n",
       "    </tr>\n",
       "  </thead>\n",
       "  <tbody>\n",
       "    <tr>\n",
       "      <th>0</th>\n",
       "      <td>one review ha mention watch 1 oz episod ' hook...</td>\n",
       "      <td>positive</td>\n",
       "    </tr>\n",
       "    <tr>\n",
       "      <th>1</th>\n",
       "      <td>wonder littl production. film techniqu veri un...</td>\n",
       "      <td>positive</td>\n",
       "    </tr>\n",
       "    <tr>\n",
       "      <th>2</th>\n",
       "      <td>thought thi wa wonder way spend time hot summe...</td>\n",
       "      <td>positive</td>\n",
       "    </tr>\n",
       "    <tr>\n",
       "      <th>3</th>\n",
       "      <td>basic ' famili littl boy ( jake ) think ' zomb...</td>\n",
       "      <td>negative</td>\n",
       "    </tr>\n",
       "    <tr>\n",
       "      <th>4</th>\n",
       "      <td>petter mattei ' \" love time money \" visual stu...</td>\n",
       "      <td>positive</td>\n",
       "    </tr>\n",
       "  </tbody>\n",
       "</table>\n",
       "</div>"
      ],
      "text/plain": [
       "                                              review sentiment\n",
       "0  one review ha mention watch 1 oz episod ' hook...  positive\n",
       "1  wonder littl production. film techniqu veri un...  positive\n",
       "2  thought thi wa wonder way spend time hot summe...  positive\n",
       "3  basic ' famili littl boy ( jake ) think ' zomb...  negative\n",
       "4  petter mattei ' \" love time money \" visual stu...  positive"
      ]
     },
     "execution_count": 91,
     "metadata": {},
     "output_type": "execute_result"
    }
   ],
   "source": [
    "data.head()"
   ]
  },
  {
   "cell_type": "markdown",
   "id": "47b7f280",
   "metadata": {},
   "source": [
    "## TRAINING TESTIN AND SPLITTING"
   ]
  },
  {
   "cell_type": "code",
   "execution_count": 93,
   "id": "c4146f61",
   "metadata": {},
   "outputs": [
    {
     "data": {
      "text/plain": [
       "(50000, 2)"
      ]
     },
     "execution_count": 93,
     "metadata": {},
     "output_type": "execute_result"
    }
   ],
   "source": [
    "data.shape\n"
   ]
  },
  {
   "cell_type": "code",
   "execution_count": 99,
   "id": "e048f48d",
   "metadata": {},
   "outputs": [],
   "source": [
    "train_reviews_data = data.review[:30000]\n",
    "test_reviews_data = data.review[30000:]\n"
   ]
  },
  {
   "cell_type": "markdown",
   "id": "554eaf87",
   "metadata": {},
   "source": [
    "## Bag Of Words Techniques"
   ]
  },
  {
   "cell_type": "code",
   "execution_count": 104,
   "id": "18676fc4",
   "metadata": {},
   "outputs": [
    {
     "name": "stdout",
     "output_type": "stream",
     "text": [
      "BOW_CV_TRAIN (30000, 4948275)\n",
      "BOW_CV_TEST (20000, 4948275)\n"
     ]
    }
   ],
   "source": [
    "# Initialize a CountVectorizer object for text processing.\n",
    "# - Words appearing in at least one document will be included in the vocabulary.\n",
    "# - Words appearing in all documents will be included.\n",
    "# - The output will contain the actual word counts (not just binary representation).\n",
    "# - It will consider unigrams, bigrams, and trigrams in the text.\n",
    "cv = CountVectorizer(min_df=0, max_df=1, binary=False, ngram_range=(1, 3))\n",
    "\n",
    "cv_train = cv.fit_transform(train_reviews_data)\n",
    "\n",
    "cv_test = cv.transform(test_reviews_data)\n",
    "\n",
    "print(\"BOW_CV_TRAIN\", cv_train.shape)\n",
    "print(\"BOW_CV_TEST\", cv_test.shape)"
   ]
  },
  {
   "cell_type": "markdown",
   "id": "8e37b699",
   "metadata": {},
   "source": [
    "## TF_IDF"
   ]
  },
  {
   "cell_type": "code",
   "execution_count": 108,
   "id": "1b9eb648",
   "metadata": {},
   "outputs": [
    {
     "name": "stdout",
     "output_type": "stream",
     "text": [
      "TFIDF train data (30000, 4948275)\n",
      "TFIDF test data (20000, 4948275)\n"
     ]
    }
   ],
   "source": [
    "tf = TfidfVectorizer(min_df=0, max_df=1, use_idf= True,ngram_range=(1,3))\n",
    "\n",
    "tf_train = tf.fit_transform(train_reviews_data)\n",
    "\n",
    "tf_test = tf.transform(test_reviews_data)\n",
    "\n",
    "print(\"TFIDF train data\", tf_train.shape)\n",
    "print(\"TFIDF test data\", tf_test.shape)"
   ]
  },
  {
   "cell_type": "markdown",
   "id": "8fb86be7",
   "metadata": {},
   "source": [
    "## LABEL ENCODING"
   ]
  },
  {
   "cell_type": "code",
   "execution_count": 109,
   "id": "58ed7c40",
   "metadata": {},
   "outputs": [
    {
     "name": "stdout",
     "output_type": "stream",
     "text": [
      "(50000, 1)\n"
     ]
    }
   ],
   "source": [
    "label = LabelBinarizer()\n",
    "\n",
    "sentiment_data = label.fit_transform(data['sentiment'])\n",
    "print(sentiment_data.shape)"
   ]
  },
  {
   "cell_type": "code",
   "execution_count": 111,
   "id": "32bbbebe",
   "metadata": {},
   "outputs": [],
   "source": [
    "train_data = data.sentiment[:30000]\n",
    "test_data = data.sentiment[30000:]"
   ]
  },
  {
   "cell_type": "code",
   "execution_count": 112,
   "id": "893beab9",
   "metadata": {},
   "outputs": [
    {
     "name": "stdout",
     "output_type": "stream",
     "text": [
      "LogisticRegression(C=1, max_iter=500, random_state=42)\n"
     ]
    }
   ],
   "source": [
    "logistic = LogisticRegression(penalty='l2', max_iter=500, C=1, random_state=42)\n",
    "\n",
    "lr_bow = logistic.fit(cv_train, train_data)\n",
    "print(lr_bow)"
   ]
  },
  {
   "cell_type": "markdown",
   "id": "2094a42f",
   "metadata": {},
   "source": [
    "## BOW PREDICTION"
   ]
  },
  {
   "cell_type": "code",
   "execution_count": 113,
   "id": "6a457eb0",
   "metadata": {},
   "outputs": [
    {
     "name": "stdout",
     "output_type": "stream",
     "text": [
      "['negative' 'negative' 'negative' ... 'negative' 'negative' 'negative']\n"
     ]
    }
   ],
   "source": [
    "bow_predict = logistic.predict(cv_test)\n",
    "print(bow_predict)"
   ]
  },
  {
   "cell_type": "code",
   "execution_count": 118,
   "id": "73f8aef6",
   "metadata": {},
   "outputs": [
    {
     "name": "stdout",
     "output_type": "stream",
     "text": [
      "0.593\n"
     ]
    }
   ],
   "source": [
    "BOW_SCORE = accuracy_score(test_data, bow_predict)\n",
    "print(BOW_SCORE)"
   ]
  },
  {
   "cell_type": "markdown",
   "id": "379046a4",
   "metadata": {},
   "source": [
    "## TF_IDF PREDICTION"
   ]
  },
  {
   "cell_type": "code",
   "execution_count": 114,
   "id": "b8a8573b",
   "metadata": {},
   "outputs": [],
   "source": [
    "lr_tfidf =logistic.fit(tf_train, train_data)\n"
   ]
  },
  {
   "cell_type": "code",
   "execution_count": 115,
   "id": "e89b3992",
   "metadata": {},
   "outputs": [
    {
     "name": "stdout",
     "output_type": "stream",
     "text": [
      "['negative' 'negative' 'negative' ... 'negative' 'positive' 'positive']\n"
     ]
    }
   ],
   "source": [
    "tf_predict = logistic.predict(tf_test)\n",
    "print(tf_predict)"
   ]
  },
  {
   "cell_type": "code",
   "execution_count": 120,
   "id": "92baba0c",
   "metadata": {},
   "outputs": [
    {
     "name": "stdout",
     "output_type": "stream",
     "text": [
      "0.7442\n"
     ]
    }
   ],
   "source": [
    "TF_IDF_SCORE = accuracy_score(test_data, tf_predict)\n",
    "print(TF_IDF_SCORE)"
   ]
  }
 ],
 "metadata": {
  "kernelspec": {
   "display_name": "Python 3 (ipykernel)",
   "language": "python",
   "name": "python3"
  },
  "language_info": {
   "codemirror_mode": {
    "name": "ipython",
    "version": 3
   },
   "file_extension": ".py",
   "mimetype": "text/x-python",
   "name": "python",
   "nbconvert_exporter": "python",
   "pygments_lexer": "ipython3",
   "version": "3.9.12"
  }
 },
 "nbformat": 4,
 "nbformat_minor": 5
}
