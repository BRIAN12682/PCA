{
 "cells": [
  {
   "cell_type": "code",
   "execution_count": 58,
   "id": "dbbde052",
   "metadata": {},
   "outputs": [
    {
     "data": {
      "text/plain": [
       "\"import pandas as pd\\nfrom textblob import TextBlob\\nfrom nltk.tokenize.toktok import ToktokTokenizer\\nimport re\\ntokenizer = ToktokTokenizer()\\nimport spacy\\nnlp = spacy.load('en_core_web_sm', disable=['ner'])\""
      ]
     },
     "execution_count": 58,
     "metadata": {},
     "output_type": "execute_result"
    }
   ],
   "source": [
    "'''import pandas as pd\n",
    "from textblob import TextBlob\n",
    "from nltk.tokenize.toktok import ToktokTokenizer\n",
    "import re\n",
    "tokenizer = ToktokTokenizer()\n",
    "import spacy\n",
    "nlp = spacy.load('en_core_web_sm', disable=['ner'])'''"
   ]
  },
  {
   "cell_type": "code",
   "execution_count": 40,
   "id": "04c4c58d",
   "metadata": {},
   "outputs": [
    {
     "data": {
      "text/plain": [
       "Sentiment(polarity=0.9099999999999999, subjectivity=0.7800000000000001)"
      ]
     },
     "execution_count": 40,
     "metadata": {},
     "output_type": "execute_result"
    }
   ],
   "source": [
    "TextBlob(\"he is very good boy\").sentiment"
   ]
  },
  {
   "cell_type": "code",
   "execution_count": 41,
   "id": "1a2e0b46",
   "metadata": {},
   "outputs": [
    {
     "data": {
      "text/plain": [
       "Sentiment(polarity=-0.35, subjectivity=0.6000000000000001)"
      ]
     },
     "execution_count": 41,
     "metadata": {},
     "output_type": "execute_result"
    }
   ],
   "source": [
    "TextBlob(\"he is not a good boy\").sentiment"
   ]
  },
  {
   "cell_type": "code",
   "execution_count": 42,
   "id": "55365318",
   "metadata": {},
   "outputs": [
    {
     "data": {
      "text/plain": [
       "Sentiment(polarity=-0.4, subjectivity=0.6)"
      ]
     },
     "execution_count": 42,
     "metadata": {},
     "output_type": "execute_result"
    }
   ],
   "source": [
    "TextBlob(\"Eerybody says this man is poor\").sentiment"
   ]
  },
  {
   "cell_type": "code",
   "execution_count": 10,
   "id": "9110f05a",
   "metadata": {},
   "outputs": [
    {
     "data": {
      "text/html": [
       "<div>\n",
       "<style scoped>\n",
       "    .dataframe tbody tr th:only-of-type {\n",
       "        vertical-align: middle;\n",
       "    }\n",
       "\n",
       "    .dataframe tbody tr th {\n",
       "        vertical-align: top;\n",
       "    }\n",
       "\n",
       "    .dataframe thead th {\n",
       "        text-align: right;\n",
       "    }\n",
       "</style>\n",
       "<table border=\"1\" class=\"dataframe\">\n",
       "  <thead>\n",
       "    <tr style=\"text-align: right;\">\n",
       "      <th></th>\n",
       "      <th>text</th>\n",
       "      <th>label</th>\n",
       "    </tr>\n",
       "  </thead>\n",
       "  <tbody>\n",
       "    <tr>\n",
       "      <th>0</th>\n",
       "      <td>I grew up (b. 1965) watching and loving the Th...</td>\n",
       "      <td>0</td>\n",
       "    </tr>\n",
       "    <tr>\n",
       "      <th>1</th>\n",
       "      <td>When I put this movie in my DVD player, and sa...</td>\n",
       "      <td>0</td>\n",
       "    </tr>\n",
       "    <tr>\n",
       "      <th>2</th>\n",
       "      <td>Why do people who do not know what a particula...</td>\n",
       "      <td>0</td>\n",
       "    </tr>\n",
       "    <tr>\n",
       "      <th>3</th>\n",
       "      <td>Even though I have great interest in Biblical ...</td>\n",
       "      <td>0</td>\n",
       "    </tr>\n",
       "    <tr>\n",
       "      <th>4</th>\n",
       "      <td>Im a die hard Dads Army fan and nothing will e...</td>\n",
       "      <td>1</td>\n",
       "    </tr>\n",
       "    <tr>\n",
       "      <th>...</th>\n",
       "      <td>...</td>\n",
       "      <td>...</td>\n",
       "    </tr>\n",
       "    <tr>\n",
       "      <th>39995</th>\n",
       "      <td>\"Western Union\" is something of a forgotten cl...</td>\n",
       "      <td>1</td>\n",
       "    </tr>\n",
       "    <tr>\n",
       "      <th>39996</th>\n",
       "      <td>This movie is an incredible piece of work. It ...</td>\n",
       "      <td>1</td>\n",
       "    </tr>\n",
       "    <tr>\n",
       "      <th>39997</th>\n",
       "      <td>My wife and I watched this movie because we pl...</td>\n",
       "      <td>0</td>\n",
       "    </tr>\n",
       "    <tr>\n",
       "      <th>39998</th>\n",
       "      <td>When I first watched Flatliners, I was amazed....</td>\n",
       "      <td>1</td>\n",
       "    </tr>\n",
       "    <tr>\n",
       "      <th>39999</th>\n",
       "      <td>Why would this film be so good, but only gross...</td>\n",
       "      <td>1</td>\n",
       "    </tr>\n",
       "  </tbody>\n",
       "</table>\n",
       "<p>40000 rows × 2 columns</p>\n",
       "</div>"
      ],
      "text/plain": [
       "                                                    text  label\n",
       "0      I grew up (b. 1965) watching and loving the Th...      0\n",
       "1      When I put this movie in my DVD player, and sa...      0\n",
       "2      Why do people who do not know what a particula...      0\n",
       "3      Even though I have great interest in Biblical ...      0\n",
       "4      Im a die hard Dads Army fan and nothing will e...      1\n",
       "...                                                  ...    ...\n",
       "39995  \"Western Union\" is something of a forgotten cl...      1\n",
       "39996  This movie is an incredible piece of work. It ...      1\n",
       "39997  My wife and I watched this movie because we pl...      0\n",
       "39998  When I first watched Flatliners, I was amazed....      1\n",
       "39999  Why would this film be so good, but only gross...      1\n",
       "\n",
       "[40000 rows x 2 columns]"
      ]
     },
     "execution_count": 10,
     "metadata": {},
     "output_type": "execute_result"
    }
   ],
   "source": [
    "### Data Loading\n",
    "train=pd.read_csv(\"Train.csv\")\n",
    "train"
   ]
  },
  {
   "cell_type": "code",
   "execution_count": 11,
   "id": "66aeddb4",
   "metadata": {},
   "outputs": [],
   "source": [
    "label_0=train[train['label']==0].sample(n=5000)\n",
    "label_1=train[train['label']==1].sample(n=5000)"
   ]
  },
  {
   "cell_type": "code",
   "execution_count": 12,
   "id": "9bc21abd",
   "metadata": {},
   "outputs": [],
   "source": [
    "train=pd.concat([label_1,label_0])\n",
    "from sklearn.utils import shuffle\n",
    "train = shuffle(train)"
   ]
  },
  {
   "cell_type": "code",
   "execution_count": 13,
   "id": "9864aa78",
   "metadata": {},
   "outputs": [
    {
     "data": {
      "text/html": [
       "<div>\n",
       "<style scoped>\n",
       "    .dataframe tbody tr th:only-of-type {\n",
       "        vertical-align: middle;\n",
       "    }\n",
       "\n",
       "    .dataframe tbody tr th {\n",
       "        vertical-align: top;\n",
       "    }\n",
       "\n",
       "    .dataframe thead th {\n",
       "        text-align: right;\n",
       "    }\n",
       "</style>\n",
       "<table border=\"1\" class=\"dataframe\">\n",
       "  <thead>\n",
       "    <tr style=\"text-align: right;\">\n",
       "      <th></th>\n",
       "      <th>text</th>\n",
       "      <th>label</th>\n",
       "    </tr>\n",
       "  </thead>\n",
       "  <tbody>\n",
       "    <tr>\n",
       "      <th>31880</th>\n",
       "      <td>(This might have a spoiler)&lt;br /&gt;&lt;br /&gt;When I ...</td>\n",
       "      <td>0</td>\n",
       "    </tr>\n",
       "    <tr>\n",
       "      <th>31688</th>\n",
       "      <td>This is movie is actually one of my all time f...</td>\n",
       "      <td>1</td>\n",
       "    </tr>\n",
       "    <tr>\n",
       "      <th>486</th>\n",
       "      <td>I thought it was an original story, very nicel...</td>\n",
       "      <td>1</td>\n",
       "    </tr>\n",
       "    <tr>\n",
       "      <th>27206</th>\n",
       "      <td>The Lady in Cement is a veritable course on so...</td>\n",
       "      <td>0</td>\n",
       "    </tr>\n",
       "    <tr>\n",
       "      <th>30892</th>\n",
       "      <td>And I repeat, please do not see this movie! Th...</td>\n",
       "      <td>0</td>\n",
       "    </tr>\n",
       "    <tr>\n",
       "      <th>...</th>\n",
       "      <td>...</td>\n",
       "      <td>...</td>\n",
       "    </tr>\n",
       "    <tr>\n",
       "      <th>10843</th>\n",
       "      <td>Early 1950s Sci-Fi directed by Lesley Selander...</td>\n",
       "      <td>0</td>\n",
       "    </tr>\n",
       "    <tr>\n",
       "      <th>10436</th>\n",
       "      <td>A remarkable documentary about the landmark ac...</td>\n",
       "      <td>1</td>\n",
       "    </tr>\n",
       "    <tr>\n",
       "      <th>15079</th>\n",
       "      <td>Sisters in law will be released theatrically o...</td>\n",
       "      <td>1</td>\n",
       "    </tr>\n",
       "    <tr>\n",
       "      <th>25656</th>\n",
       "      <td>Outrage is pretty good movie! Robert Culp was ...</td>\n",
       "      <td>1</td>\n",
       "    </tr>\n",
       "    <tr>\n",
       "      <th>8603</th>\n",
       "      <td>For all its many flaws, I'm inclined to be cha...</td>\n",
       "      <td>0</td>\n",
       "    </tr>\n",
       "  </tbody>\n",
       "</table>\n",
       "<p>10000 rows × 2 columns</p>\n",
       "</div>"
      ],
      "text/plain": [
       "                                                    text  label\n",
       "31880  (This might have a spoiler)<br /><br />When I ...      0\n",
       "31688  This is movie is actually one of my all time f...      1\n",
       "486    I thought it was an original story, very nicel...      1\n",
       "27206  The Lady in Cement is a veritable course on so...      0\n",
       "30892  And I repeat, please do not see this movie! Th...      0\n",
       "...                                                  ...    ...\n",
       "10843  Early 1950s Sci-Fi directed by Lesley Selander...      0\n",
       "10436  A remarkable documentary about the landmark ac...      1\n",
       "15079  Sisters in law will be released theatrically o...      1\n",
       "25656  Outrage is pretty good movie! Robert Culp was ...      1\n",
       "8603   For all its many flaws, I'm inclined to be cha...      0\n",
       "\n",
       "[10000 rows x 2 columns]"
      ]
     },
     "execution_count": 13,
     "metadata": {},
     "output_type": "execute_result"
    }
   ],
   "source": [
    "train"
   ]
  },
  {
   "cell_type": "markdown",
   "id": "104a4b81",
   "metadata": {},
   "source": [
    "Here, the data has two labels ie 0 and 1. 0 stands for \"Negative\" and \"1\" stands for \"Positive\"."
   ]
  },
  {
   "cell_type": "markdown",
   "id": "e7e1c98b",
   "metadata": {},
   "source": [
    "### Data Preprocessing"
   ]
  },
  {
   "cell_type": "code",
   "execution_count": 14,
   "id": "85e361ee",
   "metadata": {},
   "outputs": [
    {
     "data": {
      "text/plain": [
       "text     0\n",
       "label    0\n",
       "dtype: int64"
      ]
     },
     "execution_count": 14,
     "metadata": {},
     "output_type": "execute_result"
    }
   ],
   "source": [
    "train.isnull().sum()"
   ]
  },
  {
   "cell_type": "code",
   "execution_count": 15,
   "id": "816e963b",
   "metadata": {},
   "outputs": [
    {
     "data": {
      "text/plain": [
       "' '"
      ]
     },
     "execution_count": 15,
     "metadata": {},
     "output_type": "execute_result"
    }
   ],
   "source": [
    "\" \""
   ]
  },
  {
   "cell_type": "code",
   "execution_count": 16,
   "id": "5a26f8a0",
   "metadata": {},
   "outputs": [],
   "source": [
    "import numpy as np\n",
    "train.replace(r'^\\s*$', np.nan, regex=True,inplace=True)\n",
    "train.dropna(axis = 0, how = 'any', inplace = True)"
   ]
  },
  {
   "cell_type": "code",
   "execution_count": 17,
   "id": "5b95fec5",
   "metadata": {},
   "outputs": [
    {
     "name": "stdout",
     "output_type": "stream",
     "text": [
      "escape seq removed\n"
     ]
    }
   ],
   "source": [
    "train.replace(to_replace=[r\"\\\\t|\\\\n|\\\\r\", \"\\t|\\n|\\r\"], value=[\"\",\"\"], regex=True, inplace=True)\n",
    "print('escape seq removed')"
   ]
  },
  {
   "cell_type": "code",
   "execution_count": 18,
   "id": "bd00ce9d",
   "metadata": {},
   "outputs": [],
   "source": [
    "import numpy as np\n",
    "train.replace(r'^\\s*$', np.nan, regex=True,inplace=True)\n",
    "train.dropna(axis = 0, how = 'any', inplace = True)"
   ]
  },
  {
   "cell_type": "code",
   "execution_count": 19,
   "id": "578d468f",
   "metadata": {},
   "outputs": [
    {
     "data": {
      "text/html": [
       "<div>\n",
       "<style scoped>\n",
       "    .dataframe tbody tr th:only-of-type {\n",
       "        vertical-align: middle;\n",
       "    }\n",
       "\n",
       "    .dataframe tbody tr th {\n",
       "        vertical-align: top;\n",
       "    }\n",
       "\n",
       "    .dataframe thead th {\n",
       "        text-align: right;\n",
       "    }\n",
       "</style>\n",
       "<table border=\"1\" class=\"dataframe\">\n",
       "  <thead>\n",
       "    <tr style=\"text-align: right;\">\n",
       "      <th></th>\n",
       "      <th>text</th>\n",
       "      <th>label</th>\n",
       "    </tr>\n",
       "  </thead>\n",
       "  <tbody>\n",
       "    <tr>\n",
       "      <th>31880</th>\n",
       "      <td>(This might have a spoiler)&lt;br /&gt;&lt;br /&gt;When I ...</td>\n",
       "      <td>0</td>\n",
       "    </tr>\n",
       "    <tr>\n",
       "      <th>31688</th>\n",
       "      <td>This is movie is actually one of my all time f...</td>\n",
       "      <td>1</td>\n",
       "    </tr>\n",
       "    <tr>\n",
       "      <th>486</th>\n",
       "      <td>I thought it was an original story, very nicel...</td>\n",
       "      <td>1</td>\n",
       "    </tr>\n",
       "    <tr>\n",
       "      <th>27206</th>\n",
       "      <td>The Lady in Cement is a veritable course on so...</td>\n",
       "      <td>0</td>\n",
       "    </tr>\n",
       "    <tr>\n",
       "      <th>30892</th>\n",
       "      <td>And I repeat, please do not see this movie! Th...</td>\n",
       "      <td>0</td>\n",
       "    </tr>\n",
       "    <tr>\n",
       "      <th>...</th>\n",
       "      <td>...</td>\n",
       "      <td>...</td>\n",
       "    </tr>\n",
       "    <tr>\n",
       "      <th>10843</th>\n",
       "      <td>Early 1950s Sci-Fi directed by Lesley Selander...</td>\n",
       "      <td>0</td>\n",
       "    </tr>\n",
       "    <tr>\n",
       "      <th>10436</th>\n",
       "      <td>A remarkable documentary about the landmark ac...</td>\n",
       "      <td>1</td>\n",
       "    </tr>\n",
       "    <tr>\n",
       "      <th>15079</th>\n",
       "      <td>Sisters in law will be released theatrically o...</td>\n",
       "      <td>1</td>\n",
       "    </tr>\n",
       "    <tr>\n",
       "      <th>25656</th>\n",
       "      <td>Outrage is pretty good movie! Robert Culp was ...</td>\n",
       "      <td>1</td>\n",
       "    </tr>\n",
       "    <tr>\n",
       "      <th>8603</th>\n",
       "      <td>For all its many flaws, I'm inclined to be cha...</td>\n",
       "      <td>0</td>\n",
       "    </tr>\n",
       "  </tbody>\n",
       "</table>\n",
       "<p>10000 rows × 2 columns</p>\n",
       "</div>"
      ],
      "text/plain": [
       "                                                    text  label\n",
       "31880  (This might have a spoiler)<br /><br />When I ...      0\n",
       "31688  This is movie is actually one of my all time f...      1\n",
       "486    I thought it was an original story, very nicel...      1\n",
       "27206  The Lady in Cement is a veritable course on so...      0\n",
       "30892  And I repeat, please do not see this movie! Th...      0\n",
       "...                                                  ...    ...\n",
       "10843  Early 1950s Sci-Fi directed by Lesley Selander...      0\n",
       "10436  A remarkable documentary about the landmark ac...      1\n",
       "15079  Sisters in law will be released theatrically o...      1\n",
       "25656  Outrage is pretty good movie! Robert Culp was ...      1\n",
       "8603   For all its many flaws, I'm inclined to be cha...      0\n",
       "\n",
       "[10000 rows x 2 columns]"
      ]
     },
     "execution_count": 19,
     "metadata": {},
     "output_type": "execute_result"
    }
   ],
   "source": [
    "train"
   ]
  },
  {
   "cell_type": "code",
   "execution_count": 20,
   "id": "b668382b",
   "metadata": {},
   "outputs": [
    {
     "name": "stdout",
     "output_type": "stream",
     "text": [
      "non-ascii data removed\n"
     ]
    }
   ],
   "source": [
    "train['text']=train['text'].str.encode('ascii', 'ignore').str.decode('ascii')\n",
    "print('non-ascii data removed')"
   ]
  },
  {
   "cell_type": "code",
   "execution_count": 21,
   "id": "7fb89ae4",
   "metadata": {},
   "outputs": [
    {
     "data": {
      "text/plain": [
       "'!\"#$%&\\'()*+,-./:;<=>?@[\\\\]^_`{|}~'"
      ]
     },
     "execution_count": 21,
     "metadata": {},
     "output_type": "execute_result"
    }
   ],
   "source": [
    "import string\n",
    "string.punctuation"
   ]
  },
  {
   "cell_type": "code",
   "execution_count": 22,
   "id": "9dfbb47f",
   "metadata": {},
   "outputs": [],
   "source": [
    "def remove_punctuations(text):\n",
    "    import string\n",
    "    for punctuation in string.punctuation:\n",
    "        text = text.replace(punctuation, '')\n",
    "    return text\n",
    "train['text']=train['text'].apply(remove_punctuations)"
   ]
  },
  {
   "cell_type": "code",
   "execution_count": 23,
   "id": "44d51137",
   "metadata": {},
   "outputs": [
    {
     "data": {
      "text/html": [
       "<div>\n",
       "<style scoped>\n",
       "    .dataframe tbody tr th:only-of-type {\n",
       "        vertical-align: middle;\n",
       "    }\n",
       "\n",
       "    .dataframe tbody tr th {\n",
       "        vertical-align: top;\n",
       "    }\n",
       "\n",
       "    .dataframe thead th {\n",
       "        text-align: right;\n",
       "    }\n",
       "</style>\n",
       "<table border=\"1\" class=\"dataframe\">\n",
       "  <thead>\n",
       "    <tr style=\"text-align: right;\">\n",
       "      <th></th>\n",
       "      <th>text</th>\n",
       "      <th>label</th>\n",
       "    </tr>\n",
       "  </thead>\n",
       "  <tbody>\n",
       "    <tr>\n",
       "      <th>31880</th>\n",
       "      <td>This might have a spoilerbr br When I first st...</td>\n",
       "      <td>0</td>\n",
       "    </tr>\n",
       "    <tr>\n",
       "      <th>31688</th>\n",
       "      <td>This is movie is actually one of my all time f...</td>\n",
       "      <td>1</td>\n",
       "    </tr>\n",
       "    <tr>\n",
       "      <th>486</th>\n",
       "      <td>I thought it was an original story very nicely...</td>\n",
       "      <td>1</td>\n",
       "    </tr>\n",
       "    <tr>\n",
       "      <th>27206</th>\n",
       "      <td>The Lady in Cement is a veritable course on so...</td>\n",
       "      <td>0</td>\n",
       "    </tr>\n",
       "    <tr>\n",
       "      <th>30892</th>\n",
       "      <td>And I repeat please do not see this movie This...</td>\n",
       "      <td>0</td>\n",
       "    </tr>\n",
       "    <tr>\n",
       "      <th>...</th>\n",
       "      <td>...</td>\n",
       "      <td>...</td>\n",
       "    </tr>\n",
       "    <tr>\n",
       "      <th>10843</th>\n",
       "      <td>Early 1950s SciFi directed by Lesley Selander ...</td>\n",
       "      <td>0</td>\n",
       "    </tr>\n",
       "    <tr>\n",
       "      <th>10436</th>\n",
       "      <td>A remarkable documentary about the landmark ac...</td>\n",
       "      <td>1</td>\n",
       "    </tr>\n",
       "    <tr>\n",
       "      <th>15079</th>\n",
       "      <td>Sisters in law will be released theatrically o...</td>\n",
       "      <td>1</td>\n",
       "    </tr>\n",
       "    <tr>\n",
       "      <th>25656</th>\n",
       "      <td>Outrage is pretty good movie Robert Culp was v...</td>\n",
       "      <td>1</td>\n",
       "    </tr>\n",
       "    <tr>\n",
       "      <th>8603</th>\n",
       "      <td>For all its many flaws Im inclined to be chari...</td>\n",
       "      <td>0</td>\n",
       "    </tr>\n",
       "  </tbody>\n",
       "</table>\n",
       "<p>10000 rows × 2 columns</p>\n",
       "</div>"
      ],
      "text/plain": [
       "                                                    text  label\n",
       "31880  This might have a spoilerbr br When I first st...      0\n",
       "31688  This is movie is actually one of my all time f...      1\n",
       "486    I thought it was an original story very nicely...      1\n",
       "27206  The Lady in Cement is a veritable course on so...      0\n",
       "30892  And I repeat please do not see this movie This...      0\n",
       "...                                                  ...    ...\n",
       "10843  Early 1950s SciFi directed by Lesley Selander ...      0\n",
       "10436  A remarkable documentary about the landmark ac...      1\n",
       "15079  Sisters in law will be released theatrically o...      1\n",
       "25656  Outrage is pretty good movie Robert Culp was v...      1\n",
       "8603   For all its many flaws Im inclined to be chari...      0\n",
       "\n",
       "[10000 rows x 2 columns]"
      ]
     },
     "execution_count": 23,
     "metadata": {},
     "output_type": "execute_result"
    }
   ],
   "source": [
    "train"
   ]
  },
  {
   "cell_type": "code",
   "execution_count": 24,
   "id": "4e618914",
   "metadata": {},
   "outputs": [
    {
     "name": "stdout",
     "output_type": "stream",
     "text": [
      "['i', 'me', 'my', 'myself', 'we', 'our', 'ours', 'ourselves', 'you', \"you're\", \"you've\", \"you'll\", \"you'd\", 'your', 'yours', 'yourself', 'yourselves', 'he', 'him', 'his', 'himself', 'she', \"she's\", 'her', 'hers', 'herself', 'it', \"it's\", 'its', 'itself', 'they', 'them', 'their', 'theirs', 'themselves', 'what', 'which', 'who', 'whom', 'this', 'that', \"that'll\", 'these', 'those', 'am', 'is', 'are', 'was', 'were', 'be', 'been', 'being', 'have', 'has', 'had', 'having', 'do', 'does', 'did', 'doing', 'a', 'an', 'the', 'and', 'but', 'if', 'or', 'because', 'as', 'until', 'while', 'of', 'at', 'by', 'for', 'with', 'about', 'against', 'between', 'into', 'through', 'during', 'before', 'after', 'above', 'below', 'to', 'from', 'up', 'down', 'in', 'out', 'on', 'off', 'over', 'under', 'again', 'further', 'then', 'once', 'here', 'there', 'when', 'where', 'why', 'how', 'all', 'any', 'both', 'each', 'few', 'more', 'most', 'other', 'some', 'such', 'no', 'nor', 'not', 'only', 'own', 'same', 'so', 'than', 'too', 'very', 's', 't', 'can', 'will', 'just', 'don', \"don't\", 'should', \"should've\", 'now', 'd', 'll', 'm', 'o', 're', 've', 'y', 'ain', 'aren', \"aren't\", 'couldn', \"couldn't\", 'didn', \"didn't\", 'doesn', \"doesn't\", 'hadn', \"hadn't\", 'hasn', \"hasn't\", 'haven', \"haven't\", 'isn', \"isn't\", 'ma', 'mightn', \"mightn't\", 'mustn', \"mustn't\", 'needn', \"needn't\", 'shan', \"shan't\", 'shouldn', \"shouldn't\", 'wasn', \"wasn't\", 'weren', \"weren't\", 'won', \"won't\", 'wouldn', \"wouldn't\"]\n"
     ]
    }
   ],
   "source": [
    "import nltk\n",
    "from nltk.corpus import stopwords\n",
    "print(stopwords.words('english'))"
   ]
  },
  {
   "cell_type": "code",
   "execution_count": 25,
   "id": "d1e93f5c",
   "metadata": {},
   "outputs": [],
   "source": [
    "stopword_list = nltk.corpus.stopwords.words('english')\n",
    "stopword_list.remove('no')\n",
    "stopword_list.remove('not')"
   ]
  },
  {
   "cell_type": "code",
   "execution_count": 26,
   "id": "e587661a",
   "metadata": {},
   "outputs": [],
   "source": [
    "def custom_remove_stopwords(text, is_lower_case=False):\n",
    "    tokens = tokenizer.tokenize(text)\n",
    "    tokens = [token.strip() for token in tokens]\n",
    "    if is_lower_case:\n",
    "        filtered_tokens = [token for token in tokens if token not in stopword_list]\n",
    "    else:\n",
    "        filtered_tokens = [token for token in tokens if token.lower() not in stopword_list]\n",
    "    filtered_text = ' '.join(filtered_tokens)    \n",
    "    return filtered_text"
   ]
  },
  {
   "cell_type": "code",
   "execution_count": 27,
   "id": "6e46a380",
   "metadata": {},
   "outputs": [],
   "source": [
    "train['text']=train['text'].apply(custom_remove_stopwords)"
   ]
  },
  {
   "cell_type": "code",
   "execution_count": 28,
   "id": "34d03d7c",
   "metadata": {},
   "outputs": [
    {
     "data": {
      "text/html": [
       "<div>\n",
       "<style scoped>\n",
       "    .dataframe tbody tr th:only-of-type {\n",
       "        vertical-align: middle;\n",
       "    }\n",
       "\n",
       "    .dataframe tbody tr th {\n",
       "        vertical-align: top;\n",
       "    }\n",
       "\n",
       "    .dataframe thead th {\n",
       "        text-align: right;\n",
       "    }\n",
       "</style>\n",
       "<table border=\"1\" class=\"dataframe\">\n",
       "  <thead>\n",
       "    <tr style=\"text-align: right;\">\n",
       "      <th></th>\n",
       "      <th>text</th>\n",
       "      <th>label</th>\n",
       "    </tr>\n",
       "  </thead>\n",
       "  <tbody>\n",
       "    <tr>\n",
       "      <th>31880</th>\n",
       "      <td>might spoilerbr br first started watching movi...</td>\n",
       "      <td>0</td>\n",
       "    </tr>\n",
       "    <tr>\n",
       "      <th>31688</th>\n",
       "      <td>movie actually one time favorites Im not Renny...</td>\n",
       "      <td>1</td>\n",
       "    </tr>\n",
       "    <tr>\n",
       "      <th>486</th>\n",
       "      <td>thought original story nicely told think peopl...</td>\n",
       "      <td>1</td>\n",
       "    </tr>\n",
       "    <tr>\n",
       "      <th>27206</th>\n",
       "      <td>Lady Cement veritable course social anthropolo...</td>\n",
       "      <td>0</td>\n",
       "    </tr>\n",
       "    <tr>\n",
       "      <th>30892</th>\n",
       "      <td>repeat please not see movie review warning set...</td>\n",
       "      <td>0</td>\n",
       "    </tr>\n",
       "    <tr>\n",
       "      <th>...</th>\n",
       "      <td>...</td>\n",
       "      <td>...</td>\n",
       "    </tr>\n",
       "    <tr>\n",
       "      <th>10843</th>\n",
       "      <td>Early 1950s SciFi directed Lesley Selander Spe...</td>\n",
       "      <td>0</td>\n",
       "    </tr>\n",
       "    <tr>\n",
       "      <th>10436</th>\n",
       "      <td>remarkable documentary landmark achievements W...</td>\n",
       "      <td>1</td>\n",
       "    </tr>\n",
       "    <tr>\n",
       "      <th>15079</th>\n",
       "      <td>Sisters law released theatrically march 24th S...</td>\n",
       "      <td>1</td>\n",
       "    </tr>\n",
       "    <tr>\n",
       "      <th>25656</th>\n",
       "      <td>Outrage pretty good movie Robert Culp good mov...</td>\n",
       "      <td>1</td>\n",
       "    </tr>\n",
       "    <tr>\n",
       "      <th>8603</th>\n",
       "      <td>many flaws Im inclined charitable towards Thin...</td>\n",
       "      <td>0</td>\n",
       "    </tr>\n",
       "  </tbody>\n",
       "</table>\n",
       "<p>10000 rows × 2 columns</p>\n",
       "</div>"
      ],
      "text/plain": [
       "                                                    text  label\n",
       "31880  might spoilerbr br first started watching movi...      0\n",
       "31688  movie actually one time favorites Im not Renny...      1\n",
       "486    thought original story nicely told think peopl...      1\n",
       "27206  Lady Cement veritable course social anthropolo...      0\n",
       "30892  repeat please not see movie review warning set...      0\n",
       "...                                                  ...    ...\n",
       "10843  Early 1950s SciFi directed Lesley Selander Spe...      0\n",
       "10436  remarkable documentary landmark achievements W...      1\n",
       "15079  Sisters law released theatrically march 24th S...      1\n",
       "25656  Outrage pretty good movie Robert Culp good mov...      1\n",
       "8603   many flaws Im inclined charitable towards Thin...      0\n",
       "\n",
       "[10000 rows x 2 columns]"
      ]
     },
     "execution_count": 28,
     "metadata": {},
     "output_type": "execute_result"
    }
   ],
   "source": [
    "train"
   ]
  },
  {
   "cell_type": "code",
   "execution_count": 29,
   "id": "59fd0d56",
   "metadata": {},
   "outputs": [],
   "source": [
    "def remove_special_characters(text):\n",
    "    text = re.sub('[^a-zA-z0-9\\s]', '', text)\n",
    "    return text"
   ]
  },
  {
   "cell_type": "code",
   "execution_count": 30,
   "id": "5ab5ab13",
   "metadata": {},
   "outputs": [],
   "source": [
    "train['text']=train['text'].apply(remove_special_characters)"
   ]
  },
  {
   "cell_type": "code",
   "execution_count": 31,
   "id": "62fcb586",
   "metadata": {},
   "outputs": [],
   "source": [
    "def remove_html(text):\n",
    "    import re\n",
    "    html_pattern = re.compile('<.*?>')\n",
    "    return html_pattern.sub(r' ', text)"
   ]
  },
  {
   "cell_type": "code",
   "execution_count": 32,
   "id": "511e0789",
   "metadata": {},
   "outputs": [],
   "source": [
    "train['text']=train['text'].apply(remove_html)"
   ]
  },
  {
   "cell_type": "code",
   "execution_count": 33,
   "id": "376a2ecd",
   "metadata": {},
   "outputs": [],
   "source": [
    "def remove_URL(text):\n",
    "    url = re.compile(r'https?://\\S+|www\\.\\S+')\n",
    "    return url.sub(r' ',text)"
   ]
  },
  {
   "cell_type": "code",
   "execution_count": 34,
   "id": "8e99e6cc",
   "metadata": {},
   "outputs": [],
   "source": [
    "train['text']=train['text'].apply(remove_URL)"
   ]
  },
  {
   "cell_type": "code",
   "execution_count": 35,
   "id": "56b759ca",
   "metadata": {},
   "outputs": [],
   "source": [
    "def remove_numbers(text):\n",
    "    \"\"\" Removes integers \"\"\"\n",
    "    text = ''.join([i for i in text if not i.isdigit()])         \n",
    "    return text"
   ]
  },
  {
   "cell_type": "code",
   "execution_count": 36,
   "id": "36c42971",
   "metadata": {},
   "outputs": [],
   "source": [
    "train['text']=train['text'].apply(remove_numbers)"
   ]
  },
  {
   "cell_type": "code",
   "execution_count": 37,
   "id": "b50d400c",
   "metadata": {},
   "outputs": [],
   "source": [
    "def cleanse(word):\n",
    "    rx = re.compile(r'\\D*\\d')\n",
    "    if rx.match(word):\n",
    "        return ''\n",
    "    return word\n",
    "def remove_alphanumeric(strings):\n",
    "    nstrings = [\" \".join(filter(None, (\n",
    "    cleanse(word) for word in string.split()))) \n",
    "    for string in strings.split()]\n",
    "    str1 = ' '.join(nstrings)\n",
    "    return str1"
   ]
  },
  {
   "cell_type": "code",
   "execution_count": 38,
   "id": "1c4f2b98",
   "metadata": {},
   "outputs": [],
   "source": [
    "train['text']=train['text'].apply(remove_alphanumeric)"
   ]
  },
  {
   "cell_type": "code",
   "execution_count": 39,
   "id": "14f3d2a3",
   "metadata": {},
   "outputs": [
    {
     "data": {
      "text/html": [
       "<div>\n",
       "<style scoped>\n",
       "    .dataframe tbody tr th:only-of-type {\n",
       "        vertical-align: middle;\n",
       "    }\n",
       "\n",
       "    .dataframe tbody tr th {\n",
       "        vertical-align: top;\n",
       "    }\n",
       "\n",
       "    .dataframe thead th {\n",
       "        text-align: right;\n",
       "    }\n",
       "</style>\n",
       "<table border=\"1\" class=\"dataframe\">\n",
       "  <thead>\n",
       "    <tr style=\"text-align: right;\">\n",
       "      <th></th>\n",
       "      <th>text</th>\n",
       "      <th>label</th>\n",
       "    </tr>\n",
       "  </thead>\n",
       "  <tbody>\n",
       "    <tr>\n",
       "      <th>31880</th>\n",
       "      <td>might spoilerbr br first started watching movi...</td>\n",
       "      <td>0</td>\n",
       "    </tr>\n",
       "    <tr>\n",
       "      <th>31688</th>\n",
       "      <td>movie actually one time favorites Im not Renny...</td>\n",
       "      <td>1</td>\n",
       "    </tr>\n",
       "    <tr>\n",
       "      <th>486</th>\n",
       "      <td>thought original story nicely told think peopl...</td>\n",
       "      <td>1</td>\n",
       "    </tr>\n",
       "    <tr>\n",
       "      <th>27206</th>\n",
       "      <td>Lady Cement veritable course social anthropolo...</td>\n",
       "      <td>0</td>\n",
       "    </tr>\n",
       "    <tr>\n",
       "      <th>30892</th>\n",
       "      <td>repeat please not see movie review warning set...</td>\n",
       "      <td>0</td>\n",
       "    </tr>\n",
       "    <tr>\n",
       "      <th>...</th>\n",
       "      <td>...</td>\n",
       "      <td>...</td>\n",
       "    </tr>\n",
       "    <tr>\n",
       "      <th>10843</th>\n",
       "      <td>Early s SciFi directed Lesley Selander Special...</td>\n",
       "      <td>0</td>\n",
       "    </tr>\n",
       "    <tr>\n",
       "      <th>10436</th>\n",
       "      <td>remarkable documentary landmark achievements W...</td>\n",
       "      <td>1</td>\n",
       "    </tr>\n",
       "    <tr>\n",
       "      <th>15079</th>\n",
       "      <td>Sisters law released theatrically march th Swe...</td>\n",
       "      <td>1</td>\n",
       "    </tr>\n",
       "    <tr>\n",
       "      <th>25656</th>\n",
       "      <td>Outrage pretty good movie Robert Culp good mov...</td>\n",
       "      <td>1</td>\n",
       "    </tr>\n",
       "    <tr>\n",
       "      <th>8603</th>\n",
       "      <td>many flaws Im inclined charitable towards Thin...</td>\n",
       "      <td>0</td>\n",
       "    </tr>\n",
       "  </tbody>\n",
       "</table>\n",
       "<p>10000 rows × 2 columns</p>\n",
       "</div>"
      ],
      "text/plain": [
       "                                                    text  label\n",
       "31880  might spoilerbr br first started watching movi...      0\n",
       "31688  movie actually one time favorites Im not Renny...      1\n",
       "486    thought original story nicely told think peopl...      1\n",
       "27206  Lady Cement veritable course social anthropolo...      0\n",
       "30892  repeat please not see movie review warning set...      0\n",
       "...                                                  ...    ...\n",
       "10843  Early s SciFi directed Lesley Selander Special...      0\n",
       "10436  remarkable documentary landmark achievements W...      1\n",
       "15079  Sisters law released theatrically march th Swe...      1\n",
       "25656  Outrage pretty good movie Robert Culp good mov...      1\n",
       "8603   many flaws Im inclined charitable towards Thin...      0\n",
       "\n",
       "[10000 rows x 2 columns]"
      ]
     },
     "execution_count": 39,
     "metadata": {},
     "output_type": "execute_result"
    }
   ],
   "source": [
    "train"
   ]
  },
  {
   "cell_type": "code",
   "execution_count": 56,
   "id": "528e4013",
   "metadata": {},
   "outputs": [
    {
     "data": {
      "text/plain": [
       "text         might spoilerbr br first started watching movi...\n",
       "label                                                        2\n",
       "sentiment    (0.2358974358974359, 0.6012820512820514, 0.227...\n",
       "dtype: object"
      ]
     },
     "execution_count": 56,
     "metadata": {},
     "output_type": "execute_result"
    }
   ],
   "source": [
    "train.head().sum()"
   ]
  },
  {
   "cell_type": "code",
   "execution_count": 57,
   "id": "df926002",
   "metadata": {},
   "outputs": [
    {
     "data": {
      "text/html": [
       "<div>\n",
       "<style scoped>\n",
       "    .dataframe tbody tr th:only-of-type {\n",
       "        vertical-align: middle;\n",
       "    }\n",
       "\n",
       "    .dataframe tbody tr th {\n",
       "        vertical-align: top;\n",
       "    }\n",
       "\n",
       "    .dataframe thead th {\n",
       "        text-align: right;\n",
       "    }\n",
       "</style>\n",
       "<table border=\"1\" class=\"dataframe\">\n",
       "  <thead>\n",
       "    <tr style=\"text-align: right;\">\n",
       "      <th></th>\n",
       "      <th>label</th>\n",
       "    </tr>\n",
       "  </thead>\n",
       "  <tbody>\n",
       "    <tr>\n",
       "      <th>count</th>\n",
       "      <td>10000.000000</td>\n",
       "    </tr>\n",
       "    <tr>\n",
       "      <th>mean</th>\n",
       "      <td>0.500000</td>\n",
       "    </tr>\n",
       "    <tr>\n",
       "      <th>std</th>\n",
       "      <td>0.500025</td>\n",
       "    </tr>\n",
       "    <tr>\n",
       "      <th>min</th>\n",
       "      <td>0.000000</td>\n",
       "    </tr>\n",
       "    <tr>\n",
       "      <th>25%</th>\n",
       "      <td>0.000000</td>\n",
       "    </tr>\n",
       "    <tr>\n",
       "      <th>50%</th>\n",
       "      <td>0.500000</td>\n",
       "    </tr>\n",
       "    <tr>\n",
       "      <th>75%</th>\n",
       "      <td>1.000000</td>\n",
       "    </tr>\n",
       "    <tr>\n",
       "      <th>max</th>\n",
       "      <td>1.000000</td>\n",
       "    </tr>\n",
       "  </tbody>\n",
       "</table>\n",
       "</div>"
      ],
      "text/plain": [
       "              label\n",
       "count  10000.000000\n",
       "mean       0.500000\n",
       "std        0.500025\n",
       "min        0.000000\n",
       "25%        0.000000\n",
       "50%        0.500000\n",
       "75%        1.000000\n",
       "max        1.000000"
      ]
     },
     "execution_count": 57,
     "metadata": {},
     "output_type": "execute_result"
    }
   ],
   "source": [
    "train.describe()"
   ]
  },
  {
   "cell_type": "code",
   "execution_count": 37,
   "id": "0f934259",
   "metadata": {},
   "outputs": [],
   "source": [
    "def lemmatize_text(text):\n",
    "    text = nlp(text)\n",
    "    text = ' '.join([word.lemma_ if word.lemma_ != '-PRON-' else word.text for word in text])\n",
    "    return text"
   ]
  },
  {
   "cell_type": "code",
   "execution_count": 38,
   "id": "89c7939d",
   "metadata": {},
   "outputs": [],
   "source": [
    "train['text']=train['text'].apply(lemmatize_text)"
   ]
  },
  {
   "cell_type": "code",
   "execution_count": 40,
   "id": "6df0e33e",
   "metadata": {},
   "outputs": [],
   "source": [
    "train['sentiment'] = train['text'].apply(lambda tweet: TextBlob(tweet).sentiment)"
   ]
  },
  {
   "cell_type": "code",
   "execution_count": 41,
   "id": "56aabe38",
   "metadata": {},
   "outputs": [
    {
     "data": {
      "text/html": [
       "<div>\n",
       "<style scoped>\n",
       "    .dataframe tbody tr th:only-of-type {\n",
       "        vertical-align: middle;\n",
       "    }\n",
       "\n",
       "    .dataframe tbody tr th {\n",
       "        vertical-align: top;\n",
       "    }\n",
       "\n",
       "    .dataframe thead th {\n",
       "        text-align: right;\n",
       "    }\n",
       "</style>\n",
       "<table border=\"1\" class=\"dataframe\">\n",
       "  <thead>\n",
       "    <tr style=\"text-align: right;\">\n",
       "      <th></th>\n",
       "      <th>text</th>\n",
       "      <th>label</th>\n",
       "      <th>sentiment</th>\n",
       "    </tr>\n",
       "  </thead>\n",
       "  <tbody>\n",
       "    <tr>\n",
       "      <th>31880</th>\n",
       "      <td>might spoilerbr br first started watching movi...</td>\n",
       "      <td>0</td>\n",
       "      <td>(0.2358974358974359, 0.6012820512820514)</td>\n",
       "    </tr>\n",
       "    <tr>\n",
       "      <th>31688</th>\n",
       "      <td>movie actually one time favorites Im not Renny...</td>\n",
       "      <td>1</td>\n",
       "      <td>(0.22757352941176467, 0.4908496732026144)</td>\n",
       "    </tr>\n",
       "    <tr>\n",
       "      <th>486</th>\n",
       "      <td>thought original story nicely told think peopl...</td>\n",
       "      <td>1</td>\n",
       "      <td>(0.6291666666666668, 0.7416666666666667)</td>\n",
       "    </tr>\n",
       "    <tr>\n",
       "      <th>27206</th>\n",
       "      <td>Lady Cement veritable course social anthropolo...</td>\n",
       "      <td>0</td>\n",
       "      <td>(0.21034334023464457, 0.40597826086956523)</td>\n",
       "    </tr>\n",
       "    <tr>\n",
       "      <th>30892</th>\n",
       "      <td>repeat please not see movie review warning set...</td>\n",
       "      <td>0</td>\n",
       "      <td>(0.018291505791505784, 0.5973321535821535)</td>\n",
       "    </tr>\n",
       "    <tr>\n",
       "      <th>...</th>\n",
       "      <td>...</td>\n",
       "      <td>...</td>\n",
       "      <td>...</td>\n",
       "    </tr>\n",
       "    <tr>\n",
       "      <th>10843</th>\n",
       "      <td>Early s SciFi directed Lesley Selander Special...</td>\n",
       "      <td>0</td>\n",
       "      <td>(0.31547619047619047, 0.49142857142857144)</td>\n",
       "    </tr>\n",
       "    <tr>\n",
       "      <th>10436</th>\n",
       "      <td>remarkable documentary landmark achievements W...</td>\n",
       "      <td>1</td>\n",
       "      <td>(0.053428571428571416, 0.36266666666666675)</td>\n",
       "    </tr>\n",
       "    <tr>\n",
       "      <th>15079</th>\n",
       "      <td>Sisters law released theatrically march th Swe...</td>\n",
       "      <td>1</td>\n",
       "      <td>(0.17769841269841266, 0.4525396825396825)</td>\n",
       "    </tr>\n",
       "    <tr>\n",
       "      <th>25656</th>\n",
       "      <td>Outrage pretty good movie Robert Culp good mov...</td>\n",
       "      <td>1</td>\n",
       "      <td>(0.3548941798941799, 0.7141534391534391)</td>\n",
       "    </tr>\n",
       "    <tr>\n",
       "      <th>8603</th>\n",
       "      <td>many flaws Im inclined charitable towards Thin...</td>\n",
       "      <td>0</td>\n",
       "      <td>(0.06429421768707481, 0.5673639455782311)</td>\n",
       "    </tr>\n",
       "  </tbody>\n",
       "</table>\n",
       "<p>10000 rows × 3 columns</p>\n",
       "</div>"
      ],
      "text/plain": [
       "                                                    text  label  \\\n",
       "31880  might spoilerbr br first started watching movi...      0   \n",
       "31688  movie actually one time favorites Im not Renny...      1   \n",
       "486    thought original story nicely told think peopl...      1   \n",
       "27206  Lady Cement veritable course social anthropolo...      0   \n",
       "30892  repeat please not see movie review warning set...      0   \n",
       "...                                                  ...    ...   \n",
       "10843  Early s SciFi directed Lesley Selander Special...      0   \n",
       "10436  remarkable documentary landmark achievements W...      1   \n",
       "15079  Sisters law released theatrically march th Swe...      1   \n",
       "25656  Outrage pretty good movie Robert Culp good mov...      1   \n",
       "8603   many flaws Im inclined charitable towards Thin...      0   \n",
       "\n",
       "                                         sentiment  \n",
       "31880     (0.2358974358974359, 0.6012820512820514)  \n",
       "31688    (0.22757352941176467, 0.4908496732026144)  \n",
       "486       (0.6291666666666668, 0.7416666666666667)  \n",
       "27206   (0.21034334023464457, 0.40597826086956523)  \n",
       "30892   (0.018291505791505784, 0.5973321535821535)  \n",
       "...                                            ...  \n",
       "10843   (0.31547619047619047, 0.49142857142857144)  \n",
       "10436  (0.053428571428571416, 0.36266666666666675)  \n",
       "15079    (0.17769841269841266, 0.4525396825396825)  \n",
       "25656     (0.3548941798941799, 0.7141534391534391)  \n",
       "8603     (0.06429421768707481, 0.5673639455782311)  \n",
       "\n",
       "[10000 rows x 3 columns]"
      ]
     },
     "execution_count": 41,
     "metadata": {},
     "output_type": "execute_result"
    }
   ],
   "source": [
    "train"
   ]
  },
  {
   "cell_type": "code",
   "execution_count": 42,
   "id": "23abca0a",
   "metadata": {},
   "outputs": [],
   "source": [
    "sentiment_series = train['sentiment'].tolist()"
   ]
  },
  {
   "cell_type": "code",
   "execution_count": 43,
   "id": "0dd0f3d9",
   "metadata": {},
   "outputs": [],
   "source": [
    "columns = ['polarity', 'subjectivity']\n",
    "df1 = pd.DataFrame(sentiment_series, columns=columns, index=train.index)"
   ]
  },
  {
   "cell_type": "code",
   "execution_count": 44,
   "id": "5dfa79cf",
   "metadata": {},
   "outputs": [
    {
     "data": {
      "text/html": [
       "<div>\n",
       "<style scoped>\n",
       "    .dataframe tbody tr th:only-of-type {\n",
       "        vertical-align: middle;\n",
       "    }\n",
       "\n",
       "    .dataframe tbody tr th {\n",
       "        vertical-align: top;\n",
       "    }\n",
       "\n",
       "    .dataframe thead th {\n",
       "        text-align: right;\n",
       "    }\n",
       "</style>\n",
       "<table border=\"1\" class=\"dataframe\">\n",
       "  <thead>\n",
       "    <tr style=\"text-align: right;\">\n",
       "      <th></th>\n",
       "      <th>polarity</th>\n",
       "      <th>subjectivity</th>\n",
       "    </tr>\n",
       "  </thead>\n",
       "  <tbody>\n",
       "    <tr>\n",
       "      <th>31880</th>\n",
       "      <td>0.235897</td>\n",
       "      <td>0.601282</td>\n",
       "    </tr>\n",
       "    <tr>\n",
       "      <th>31688</th>\n",
       "      <td>0.227574</td>\n",
       "      <td>0.490850</td>\n",
       "    </tr>\n",
       "    <tr>\n",
       "      <th>486</th>\n",
       "      <td>0.629167</td>\n",
       "      <td>0.741667</td>\n",
       "    </tr>\n",
       "    <tr>\n",
       "      <th>27206</th>\n",
       "      <td>0.210343</td>\n",
       "      <td>0.405978</td>\n",
       "    </tr>\n",
       "    <tr>\n",
       "      <th>30892</th>\n",
       "      <td>0.018292</td>\n",
       "      <td>0.597332</td>\n",
       "    </tr>\n",
       "    <tr>\n",
       "      <th>...</th>\n",
       "      <td>...</td>\n",
       "      <td>...</td>\n",
       "    </tr>\n",
       "    <tr>\n",
       "      <th>10843</th>\n",
       "      <td>0.315476</td>\n",
       "      <td>0.491429</td>\n",
       "    </tr>\n",
       "    <tr>\n",
       "      <th>10436</th>\n",
       "      <td>0.053429</td>\n",
       "      <td>0.362667</td>\n",
       "    </tr>\n",
       "    <tr>\n",
       "      <th>15079</th>\n",
       "      <td>0.177698</td>\n",
       "      <td>0.452540</td>\n",
       "    </tr>\n",
       "    <tr>\n",
       "      <th>25656</th>\n",
       "      <td>0.354894</td>\n",
       "      <td>0.714153</td>\n",
       "    </tr>\n",
       "    <tr>\n",
       "      <th>8603</th>\n",
       "      <td>0.064294</td>\n",
       "      <td>0.567364</td>\n",
       "    </tr>\n",
       "  </tbody>\n",
       "</table>\n",
       "<p>10000 rows × 2 columns</p>\n",
       "</div>"
      ],
      "text/plain": [
       "       polarity  subjectivity\n",
       "31880  0.235897      0.601282\n",
       "31688  0.227574      0.490850\n",
       "486    0.629167      0.741667\n",
       "27206  0.210343      0.405978\n",
       "30892  0.018292      0.597332\n",
       "...         ...           ...\n",
       "10843  0.315476      0.491429\n",
       "10436  0.053429      0.362667\n",
       "15079  0.177698      0.452540\n",
       "25656  0.354894      0.714153\n",
       "8603   0.064294      0.567364\n",
       "\n",
       "[10000 rows x 2 columns]"
      ]
     },
     "execution_count": 44,
     "metadata": {},
     "output_type": "execute_result"
    }
   ],
   "source": [
    "df1"
   ]
  },
  {
   "cell_type": "code",
   "execution_count": 45,
   "id": "cd3e76b8",
   "metadata": {},
   "outputs": [],
   "source": [
    "result = pd.concat([train,df1],axis=1)"
   ]
  },
  {
   "cell_type": "code",
   "execution_count": 46,
   "id": "59259f22",
   "metadata": {},
   "outputs": [],
   "source": [
    "result.drop(['sentiment'],axis=1,inplace=True)"
   ]
  },
  {
   "cell_type": "code",
   "execution_count": 47,
   "id": "0b1f5d3b",
   "metadata": {},
   "outputs": [],
   "source": [
    "result.loc[result['polarity']>=0.3, 'Sentiment'] = \"Positive\"\n",
    "result.loc[result['polarity']<0.3, 'Sentiment'] = \"Negative\""
   ]
  },
  {
   "cell_type": "code",
   "execution_count": 48,
   "id": "fb524d12",
   "metadata": {},
   "outputs": [
    {
     "data": {
      "text/html": [
       "<div>\n",
       "<style scoped>\n",
       "    .dataframe tbody tr th:only-of-type {\n",
       "        vertical-align: middle;\n",
       "    }\n",
       "\n",
       "    .dataframe tbody tr th {\n",
       "        vertical-align: top;\n",
       "    }\n",
       "\n",
       "    .dataframe thead th {\n",
       "        text-align: right;\n",
       "    }\n",
       "</style>\n",
       "<table border=\"1\" class=\"dataframe\">\n",
       "  <thead>\n",
       "    <tr style=\"text-align: right;\">\n",
       "      <th></th>\n",
       "      <th>text</th>\n",
       "      <th>label</th>\n",
       "      <th>polarity</th>\n",
       "      <th>subjectivity</th>\n",
       "      <th>Sentiment</th>\n",
       "    </tr>\n",
       "  </thead>\n",
       "  <tbody>\n",
       "    <tr>\n",
       "      <th>31880</th>\n",
       "      <td>might spoilerbr br first started watching movi...</td>\n",
       "      <td>0</td>\n",
       "      <td>0.235897</td>\n",
       "      <td>0.601282</td>\n",
       "      <td>Negative</td>\n",
       "    </tr>\n",
       "    <tr>\n",
       "      <th>31688</th>\n",
       "      <td>movie actually one time favorites Im not Renny...</td>\n",
       "      <td>1</td>\n",
       "      <td>0.227574</td>\n",
       "      <td>0.490850</td>\n",
       "      <td>Negative</td>\n",
       "    </tr>\n",
       "    <tr>\n",
       "      <th>486</th>\n",
       "      <td>thought original story nicely told think peopl...</td>\n",
       "      <td>1</td>\n",
       "      <td>0.629167</td>\n",
       "      <td>0.741667</td>\n",
       "      <td>Positive</td>\n",
       "    </tr>\n",
       "    <tr>\n",
       "      <th>27206</th>\n",
       "      <td>Lady Cement veritable course social anthropolo...</td>\n",
       "      <td>0</td>\n",
       "      <td>0.210343</td>\n",
       "      <td>0.405978</td>\n",
       "      <td>Negative</td>\n",
       "    </tr>\n",
       "    <tr>\n",
       "      <th>30892</th>\n",
       "      <td>repeat please not see movie review warning set...</td>\n",
       "      <td>0</td>\n",
       "      <td>0.018292</td>\n",
       "      <td>0.597332</td>\n",
       "      <td>Negative</td>\n",
       "    </tr>\n",
       "    <tr>\n",
       "      <th>...</th>\n",
       "      <td>...</td>\n",
       "      <td>...</td>\n",
       "      <td>...</td>\n",
       "      <td>...</td>\n",
       "      <td>...</td>\n",
       "    </tr>\n",
       "    <tr>\n",
       "      <th>10843</th>\n",
       "      <td>Early s SciFi directed Lesley Selander Special...</td>\n",
       "      <td>0</td>\n",
       "      <td>0.315476</td>\n",
       "      <td>0.491429</td>\n",
       "      <td>Positive</td>\n",
       "    </tr>\n",
       "    <tr>\n",
       "      <th>10436</th>\n",
       "      <td>remarkable documentary landmark achievements W...</td>\n",
       "      <td>1</td>\n",
       "      <td>0.053429</td>\n",
       "      <td>0.362667</td>\n",
       "      <td>Negative</td>\n",
       "    </tr>\n",
       "    <tr>\n",
       "      <th>15079</th>\n",
       "      <td>Sisters law released theatrically march th Swe...</td>\n",
       "      <td>1</td>\n",
       "      <td>0.177698</td>\n",
       "      <td>0.452540</td>\n",
       "      <td>Negative</td>\n",
       "    </tr>\n",
       "    <tr>\n",
       "      <th>25656</th>\n",
       "      <td>Outrage pretty good movie Robert Culp good mov...</td>\n",
       "      <td>1</td>\n",
       "      <td>0.354894</td>\n",
       "      <td>0.714153</td>\n",
       "      <td>Positive</td>\n",
       "    </tr>\n",
       "    <tr>\n",
       "      <th>8603</th>\n",
       "      <td>many flaws Im inclined charitable towards Thin...</td>\n",
       "      <td>0</td>\n",
       "      <td>0.064294</td>\n",
       "      <td>0.567364</td>\n",
       "      <td>Negative</td>\n",
       "    </tr>\n",
       "  </tbody>\n",
       "</table>\n",
       "<p>10000 rows × 5 columns</p>\n",
       "</div>"
      ],
      "text/plain": [
       "                                                    text  label  polarity  \\\n",
       "31880  might spoilerbr br first started watching movi...      0  0.235897   \n",
       "31688  movie actually one time favorites Im not Renny...      1  0.227574   \n",
       "486    thought original story nicely told think peopl...      1  0.629167   \n",
       "27206  Lady Cement veritable course social anthropolo...      0  0.210343   \n",
       "30892  repeat please not see movie review warning set...      0  0.018292   \n",
       "...                                                  ...    ...       ...   \n",
       "10843  Early s SciFi directed Lesley Selander Special...      0  0.315476   \n",
       "10436  remarkable documentary landmark achievements W...      1  0.053429   \n",
       "15079  Sisters law released theatrically march th Swe...      1  0.177698   \n",
       "25656  Outrage pretty good movie Robert Culp good mov...      1  0.354894   \n",
       "8603   many flaws Im inclined charitable towards Thin...      0  0.064294   \n",
       "\n",
       "       subjectivity Sentiment  \n",
       "31880      0.601282  Negative  \n",
       "31688      0.490850  Negative  \n",
       "486        0.741667  Positive  \n",
       "27206      0.405978  Negative  \n",
       "30892      0.597332  Negative  \n",
       "...             ...       ...  \n",
       "10843      0.491429  Positive  \n",
       "10436      0.362667  Negative  \n",
       "15079      0.452540  Negative  \n",
       "25656      0.714153  Positive  \n",
       "8603       0.567364  Negative  \n",
       "\n",
       "[10000 rows x 5 columns]"
      ]
     },
     "execution_count": 48,
     "metadata": {},
     "output_type": "execute_result"
    }
   ],
   "source": [
    "result"
   ]
  },
  {
   "cell_type": "code",
   "execution_count": 49,
   "id": "38d307c5",
   "metadata": {},
   "outputs": [],
   "source": [
    "result.loc[result['label']==1, 'Sentiment_label'] = 1\n",
    "result.loc[result['label']==0, 'Sentiment_label'] = 0"
   ]
  },
  {
   "cell_type": "code",
   "execution_count": 52,
   "id": "641f0bfe",
   "metadata": {},
   "outputs": [
    {
     "data": {
      "text/html": [
       "<div>\n",
       "<style scoped>\n",
       "    .dataframe tbody tr th:only-of-type {\n",
       "        vertical-align: middle;\n",
       "    }\n",
       "\n",
       "    .dataframe tbody tr th {\n",
       "        vertical-align: top;\n",
       "    }\n",
       "\n",
       "    .dataframe thead th {\n",
       "        text-align: right;\n",
       "    }\n",
       "</style>\n",
       "<table border=\"1\" class=\"dataframe\">\n",
       "  <thead>\n",
       "    <tr style=\"text-align: right;\">\n",
       "      <th></th>\n",
       "      <th>text</th>\n",
       "      <th>label</th>\n",
       "      <th>polarity</th>\n",
       "      <th>subjectivity</th>\n",
       "      <th>Sentiment</th>\n",
       "      <th>Sentiment_label</th>\n",
       "    </tr>\n",
       "  </thead>\n",
       "  <tbody>\n",
       "    <tr>\n",
       "      <th>31880</th>\n",
       "      <td>might spoilerbr br first started watching movi...</td>\n",
       "      <td>0</td>\n",
       "      <td>0.235897</td>\n",
       "      <td>0.601282</td>\n",
       "      <td>Negative</td>\n",
       "      <td>0.0</td>\n",
       "    </tr>\n",
       "    <tr>\n",
       "      <th>31688</th>\n",
       "      <td>movie actually one time favorites Im not Renny...</td>\n",
       "      <td>1</td>\n",
       "      <td>0.227574</td>\n",
       "      <td>0.490850</td>\n",
       "      <td>Negative</td>\n",
       "      <td>1.0</td>\n",
       "    </tr>\n",
       "    <tr>\n",
       "      <th>486</th>\n",
       "      <td>thought original story nicely told think peopl...</td>\n",
       "      <td>1</td>\n",
       "      <td>0.629167</td>\n",
       "      <td>0.741667</td>\n",
       "      <td>Positive</td>\n",
       "      <td>1.0</td>\n",
       "    </tr>\n",
       "    <tr>\n",
       "      <th>27206</th>\n",
       "      <td>Lady Cement veritable course social anthropolo...</td>\n",
       "      <td>0</td>\n",
       "      <td>0.210343</td>\n",
       "      <td>0.405978</td>\n",
       "      <td>Negative</td>\n",
       "      <td>0.0</td>\n",
       "    </tr>\n",
       "    <tr>\n",
       "      <th>30892</th>\n",
       "      <td>repeat please not see movie review warning set...</td>\n",
       "      <td>0</td>\n",
       "      <td>0.018292</td>\n",
       "      <td>0.597332</td>\n",
       "      <td>Negative</td>\n",
       "      <td>0.0</td>\n",
       "    </tr>\n",
       "    <tr>\n",
       "      <th>...</th>\n",
       "      <td>...</td>\n",
       "      <td>...</td>\n",
       "      <td>...</td>\n",
       "      <td>...</td>\n",
       "      <td>...</td>\n",
       "      <td>...</td>\n",
       "    </tr>\n",
       "    <tr>\n",
       "      <th>10843</th>\n",
       "      <td>Early s SciFi directed Lesley Selander Special...</td>\n",
       "      <td>0</td>\n",
       "      <td>0.315476</td>\n",
       "      <td>0.491429</td>\n",
       "      <td>Positive</td>\n",
       "      <td>0.0</td>\n",
       "    </tr>\n",
       "    <tr>\n",
       "      <th>10436</th>\n",
       "      <td>remarkable documentary landmark achievements W...</td>\n",
       "      <td>1</td>\n",
       "      <td>0.053429</td>\n",
       "      <td>0.362667</td>\n",
       "      <td>Negative</td>\n",
       "      <td>1.0</td>\n",
       "    </tr>\n",
       "    <tr>\n",
       "      <th>15079</th>\n",
       "      <td>Sisters law released theatrically march th Swe...</td>\n",
       "      <td>1</td>\n",
       "      <td>0.177698</td>\n",
       "      <td>0.452540</td>\n",
       "      <td>Negative</td>\n",
       "      <td>1.0</td>\n",
       "    </tr>\n",
       "    <tr>\n",
       "      <th>25656</th>\n",
       "      <td>Outrage pretty good movie Robert Culp good mov...</td>\n",
       "      <td>1</td>\n",
       "      <td>0.354894</td>\n",
       "      <td>0.714153</td>\n",
       "      <td>Positive</td>\n",
       "      <td>1.0</td>\n",
       "    </tr>\n",
       "    <tr>\n",
       "      <th>8603</th>\n",
       "      <td>many flaws Im inclined charitable towards Thin...</td>\n",
       "      <td>0</td>\n",
       "      <td>0.064294</td>\n",
       "      <td>0.567364</td>\n",
       "      <td>Negative</td>\n",
       "      <td>0.0</td>\n",
       "    </tr>\n",
       "  </tbody>\n",
       "</table>\n",
       "<p>10000 rows × 6 columns</p>\n",
       "</div>"
      ],
      "text/plain": [
       "                                                    text  label  polarity  \\\n",
       "31880  might spoilerbr br first started watching movi...      0  0.235897   \n",
       "31688  movie actually one time favorites Im not Renny...      1  0.227574   \n",
       "486    thought original story nicely told think peopl...      1  0.629167   \n",
       "27206  Lady Cement veritable course social anthropolo...      0  0.210343   \n",
       "30892  repeat please not see movie review warning set...      0  0.018292   \n",
       "...                                                  ...    ...       ...   \n",
       "10843  Early s SciFi directed Lesley Selander Special...      0  0.315476   \n",
       "10436  remarkable documentary landmark achievements W...      1  0.053429   \n",
       "15079  Sisters law released theatrically march th Swe...      1  0.177698   \n",
       "25656  Outrage pretty good movie Robert Culp good mov...      1  0.354894   \n",
       "8603   many flaws Im inclined charitable towards Thin...      0  0.064294   \n",
       "\n",
       "       subjectivity Sentiment  Sentiment_label  \n",
       "31880      0.601282  Negative              0.0  \n",
       "31688      0.490850  Negative              1.0  \n",
       "486        0.741667  Positive              1.0  \n",
       "27206      0.405978  Negative              0.0  \n",
       "30892      0.597332  Negative              0.0  \n",
       "...             ...       ...              ...  \n",
       "10843      0.491429  Positive              0.0  \n",
       "10436      0.362667  Negative              1.0  \n",
       "15079      0.452540  Negative              1.0  \n",
       "25656      0.714153  Positive              1.0  \n",
       "8603       0.567364  Negative              0.0  \n",
       "\n",
       "[10000 rows x 6 columns]"
      ]
     },
     "execution_count": 52,
     "metadata": {},
     "output_type": "execute_result"
    }
   ],
   "source": [
    "result"
   ]
  }
 ],
 "metadata": {
  "kernelspec": {
   "display_name": "Python 3 (ipykernel)",
   "language": "python",
   "name": "python3"
  },
  "language_info": {
   "codemirror_mode": {
    "name": "ipython",
    "version": 3
   },
   "file_extension": ".py",
   "mimetype": "text/x-python",
   "name": "python",
   "nbconvert_exporter": "python",
   "pygments_lexer": "ipython3",
   "version": "3.9.12"
  }
 },
 "nbformat": 4,
 "nbformat_minor": 5
}
