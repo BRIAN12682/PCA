{
  "nbformat": 4,
  "nbformat_minor": 0,
  "metadata": {
    "colab": {
      "provenance": [],
      "authorship_tag": "ABX9TyPzl7TUpKjJU7iMWRnMbMuG",
      "include_colab_link": true
    },
    "kernelspec": {
      "name": "python3",
      "display_name": "Python 3"
    },
    "language_info": {
      "name": "python"
    }
  },
  "cells": [
    {
      "cell_type": "markdown",
      "metadata": {
        "id": "view-in-github",
        "colab_type": "text"
      },
      "source": [
        "<a href=\"https://colab.research.google.com/github/BRIAN12682/PCA/blob/main/Semantic_Segmentation.ipynb\" target=\"_parent\"><img src=\"https://colab.research.google.com/assets/colab-badge.svg\" alt=\"Open In Colab\"/></a>"
      ]
    },
    {
      "cell_type": "code",
      "source": [
        "!pip install dataset"
      ],
      "metadata": {
        "colab": {
          "base_uri": "https://localhost:8080/"
        },
        "id": "HNvUdQMfpQ89",
        "outputId": "1c01dc2a-9dcb-4493-8083-0a73c50c65b2"
      },
      "execution_count": 7,
      "outputs": [
        {
          "output_type": "stream",
          "name": "stdout",
          "text": [
            "Requirement already satisfied: dataset in /usr/local/lib/python3.10/dist-packages (1.6.2)\n",
            "Requirement already satisfied: sqlalchemy<2.0.0,>=1.3.2 in /usr/local/lib/python3.10/dist-packages (from dataset) (1.4.49)\n",
            "Requirement already satisfied: alembic>=0.6.2 in /usr/local/lib/python3.10/dist-packages (from dataset) (1.12.0)\n",
            "Requirement already satisfied: banal>=1.0.1 in /usr/local/lib/python3.10/dist-packages (from dataset) (1.0.6)\n",
            "Requirement already satisfied: Mako in /usr/local/lib/python3.10/dist-packages (from alembic>=0.6.2->dataset) (1.2.4)\n",
            "Requirement already satisfied: typing-extensions>=4 in /usr/local/lib/python3.10/dist-packages (from alembic>=0.6.2->dataset) (4.5.0)\n",
            "Requirement already satisfied: greenlet!=0.4.17 in /usr/local/lib/python3.10/dist-packages (from sqlalchemy<2.0.0,>=1.3.2->dataset) (3.0.0)\n",
            "Requirement already satisfied: MarkupSafe>=0.9.2 in /usr/local/lib/python3.10/dist-packages (from Mako->alembic>=0.6.2->dataset) (2.1.3)\n"
          ]
        }
      ]
    },
    {
      "cell_type": "code",
      "execution_count": 10,
      "metadata": {
        "id": "VK6TLauyob91"
      },
      "outputs": [],
      "source": [
        "# import the necessary packages\n",
        "import numpy as np\n",
        "import argparse\n",
        "import imutils\n",
        "import time\n",
        "import cv2"
      ]
    },
    {
      "cell_type": "code",
      "source": [
        "!pip install --upgrade imutils"
      ],
      "metadata": {
        "colab": {
          "base_uri": "https://localhost:8080/"
        },
        "id": "U1fn41WwtdN_",
        "outputId": "131ec799-9dfc-4cfb-9339-5f0bdf8bbbe3"
      },
      "execution_count": 11,
      "outputs": [
        {
          "output_type": "stream",
          "name": "stdout",
          "text": [
            "Requirement already satisfied: imutils in /usr/local/lib/python3.10/dist-packages (0.5.4)\n"
          ]
        }
      ]
    },
    {
      "cell_type": "code",
      "source": [
        "# construct the argument parse and parse the arguments\n",
        "ap = argparse.ArgumentParser()\n",
        "ap.add_argument(\"-m\", \"--model\", required=True,\n",
        "\thelp=\"path to deep learning segmentation model\")\n",
        "ap.add_argument(\"-c\", \"--classes\", required=True,\n",
        "\thelp=\"path to .txt file containing class labels\")\n",
        "ap.add_argument(\"-i\", \"--image\", required=True,\n",
        "\thelp=\"path to input image\")\n",
        "ap.add_argument(\"-l\", \"--colors\", type=str,\n",
        "\thelp=\"path to .txt file containing colors for labels\")\n",
        "ap.add_argument(\"-w\", \"--width\", type=int, default=500,\n",
        "\thelp=\"desired width (in pixels) of input image\")\n",
        "args = vars(ap.parse_args())\n",
        "# load the class label names\n",
        "CLASSES = open(args[\"classes\"]).read().strip().split(\"\\n\")\n",
        "# if a colors file was supplied, load it from disk\n",
        "if args[\"colors\"]:\n",
        "\tCOLORS = open(args[\"colors\"]).read().strip().split(\"\\n\")\n",
        "\tCOLORS = [np.array(c.split(\",\")).astype(\"int\") for c in COLORS]\n",
        "\tCOLORS = np.array(COLORS, dtype=\"uint8\")\n",
        "# otherwise, we need to randomly generate RGB colors for each class\n",
        "# label\n",
        "else:\n",
        "\t# initialize a list of colors to represent each class label in\n",
        "\t# the mask (starting with 'black' for the background/unlabeled\n",
        "\t# regions)\n",
        "\tnp.random.seed(42)\n",
        "\tCOLORS = np.random.randint(0, 255, size=(len(CLASSES) - 1, 3),\n",
        "\t\tdtype=\"uint8\")\n",
        "\tCOLORS = np.vstack([[0, 0, 0], COLORS]).astype(\"uint8\")"
      ],
      "metadata": {
        "colab": {
          "base_uri": "https://localhost:8080/",
          "height": 160
        },
        "id": "v02TqDMht11B",
        "outputId": "27d9feaa-429d-4f2f-eaf8-322e885c56a9"
      },
      "execution_count": 13,
      "outputs": [
        {
          "output_type": "stream",
          "name": "stderr",
          "text": [
            "usage: colab_kernel_launcher.py [-h] -m MODEL -c CLASSES -i IMAGE [-l COLORS] [-w WIDTH]\n",
            "colab_kernel_launcher.py: error: the following arguments are required: -m/--model, -c/--classes, -i/--image\n"
          ]
        },
        {
          "output_type": "error",
          "ename": "SystemExit",
          "evalue": "ignored",
          "traceback": [
            "An exception has occurred, use %tb to see the full traceback.\n",
            "\u001b[0;31mSystemExit\u001b[0m\u001b[0;31m:\u001b[0m 2\n"
          ]
        }
      ]
    }
  ]
}